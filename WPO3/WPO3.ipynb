{
 "cells": [
  {
   "cell_type": "markdown",
   "metadata": {
    "nbgrader": {
     "grade": false,
     "grade_id": "cell-5983e95001baf4dd",
     "locked": true,
     "schema_version": 1,
     "solution": false
    }
   },
   "source": [
    "# Health Information Systems and Decision Support Systems\n",
    "## WPO 3: Data-driven systems  (11/03/22)\n",
    "***\n",
    "*Jakub Ceranka, Pieter Boonen, Jef Vandemeulebroucke* <br>\n",
    "*Department of Electronics and Informatics (ETRO)* <br>\n",
    "*Vrije Universiteit Brussel, Pleinlaan 2, B-1050 Brussels, Belgium*"
   ]
  },
  {
   "cell_type": "markdown",
   "metadata": {},
   "source": [
    "<font color=blue>Insert students names and IDs here</font>"
   ]
  },
  {
   "cell_type": "markdown",
   "metadata": {
    "nbgrader": {
     "grade": false,
     "grade_id": "cell-dc244f69257aecd9",
     "locked": true,
     "schema_version": 1,
     "solution": false
    }
   },
   "source": [
    "***\n",
    "### Goal\n",
    "The goal of this practical session is to get an insight into architecture and basic functionalities of an automatic bone cancer detection system using real life medical image dataset of metastatic bone disease patients. Your tasks will involve examining and preprocessing the data, training various classifiers and validating the performance of your system against the ground-truth predictions done manually by an experienced radiologist. Students must send their notebook using the Assignment functionality of Canvas before the __16th of March, 2022, 23:59. Remember to include the HTML format!.__ The grade from this practical session will contribute to your final grade.\n",
    "Questions: [jceranka@etrovub.be](mailto:jceranka@etrovub.be), [jwuts@etrovub.be](mailto:jwuts@etrovub.be) \n",
    "***\n",
    "### Metastatic bone disease MRI dataset\n",
    "***\n",
    "#### Bone metastases\n",
    "Cancer that begins in an organ, such as lungs, breast or prostate, and then spreads via blood stream or lymph vessels to the bone is called a __metastatic bone disease__ (MBD). Bone metastases mostly affect axial skeleton, pelvis and upper parts of the femur bones. Patients with advanced breast or prostate cancer have more than 50% chance to develop bone metastases. MBD results in severe bone pain, fractures, spinal cord compression and eventually death.\n",
    "***\n",
    "#### Assessment of treatment response\n",
    "In order to assess the treatment response of a MBD patient over time, the volume and several functional properties of all present bone metastases have to be compared before and after the treatment. This is done using various whole-body medical imaging modalities such as computed tomography, bone scintigraphy or magnetic resonance imaging. A decrease in tumour volume over time usually indicates good response to the treatment. However, the assessment of the response to treatment of bone lesions has been considered difficult and time consuming, compared to lesions involving soft tissues or other organs. Commercial software that enable radiologists to interactively or semi-automatically define individual volumes of interest (VOIs) is beginning to emerge. However, in patients with metastatic bone disease, the number of metastases can be large, making it impractical and extremely time consuming to use such software to evaluate all lesions. This motivates us to work on fully automated segmentation algorithms for the extraction of bone metastases, which could greatly facilitate the disease management for such patients. Additionally, it could also provide valuable tools for studies on large patient populations.\n",
    "***\n",
    "#### Whole-body MRI\n",
    "Whole-body magnetic resonance imaging (MRI) offers excellent sensitivity for the detection of neoplastic cells within the bone marrow using so-called anatomic sequences. Basic sequences, i.e. T1-weighted sequences, provide a high contrast between the low signal intensity of the lesions and the high signal intensity of the surrounding marrow. This contrast enables lesion measurement and has been shown feasible in prostate and breast cancer metastases.\n",
    "Additionally, due to the development of parallel imaging and ultra-fast MRI sequences (i.e. echo-planar imaging), functional sequences can be additionally acquired. The whole-body diffusion-weighted imaging (WB-DWI) showed a great potential in tumour detection [<cite>[1]</cite>](https://www.ncbi.nlm.nih.gov/pubmed/24510426)[<cite>[2]</cite>](http://journals.plos.org/plosone/article?id=10.1371/journal.pone.0091779).  Moreover, the technique provides quantitative functional parameters showing early changes after therapy: apparent diffusion coefficient (ADC)[<cite>[3]</cite>](https://radiopaedia.org/articles/apparent-diffusion-coefficient-1) and allows for computations of artificial images: high b-value computed DWI [<cite>[4]</cite>](https://www.ncbi.nlm.nih.gov/pubmed/21852566)\n",
    "***\n",
    "#### Anatomical and functional images\n",
    "![modalities](modalities.png)\n",
    "The above image represents all whole-body MRI image modalities used to characterize bone metastases (marked with red arrows). From the left:\n",
    "- T1 anatomical image (bone metastases are darker than the healthy bone)\n",
    "- B-0 diffusion weighted image (lesions are usually brighter than normal bone)\n",
    "- B-1000 diffusion weighted image (lesions are usually much brighter than normal bone)\n",
    "- ADC map (lesions usually lie within a range of 600 to 1200 voxel intensity value)\n",
    "- B-1500 and B-2000 computed diffusion weighted image (lesions are usually much brighter than normal bone, less false positive high intensity signal (e.g. kidneys, bladder)\n",
    "\n",
    "The following image shows a manual delineation of lesions done by radiologist using T1 anatomy image (superior resolution). Segmentation was mapped on complementary image modalities (B-0, B-1000 and ADC respectively).\n",
    "\n",
    "![lesions_zoom](lesions_zoom.png)\n",
    "***\n",
    "#### Features:\n",
    "The goal of the classification task (binary classification) is to determine if a certain voxel of patient's skeleton corresponds to bone lesion or healthy bone tissue, which will allow to automatically construct a segmentation image highlighting bone metastases. In order to do so, you are provided with a dataset consisting of a list of all voxels of the skeleton tissue from 9 metastatic bone disease patients. \n",
    "\n",
    "Each skeleton voxel has an independent set of features describing its individual properties:\n",
    "- The medical diagnosis label assessed by a radiologist via manual segmentation: *healthy* or *lesion*.\n",
    "- The (x, y ,z) 3D position coordinates. \n",
    "- A set of 5 unique features representing its intensity values across each of 6 different modalities used (T1, B-0, B-1000, ADC, B-1500, B-2000):\n",
    "        a) Intensity of a voxel \n",
    "        b) Mean intensity of a kernel of size 5 around the voxel of interest\n",
    "        c) Median intensity of a kernel of size 5 around the voxel of interest\n",
    "        d) Maximum intensity of a kernel of size 5 around the voxel of interest\n",
    "        e) Minimum  intensity of a kernel of size 5 around the voxel of interest\n",
    "        \n",
    "All features were computed automatically, using automatic image processing algorithms. In total the dataset consists of 291776 voxels labeled *healthy* or *lesion*. The dataset is balanced and has a 50-50 distribution: 145888 *healthy* voxels, 145888 *lesion* voxels.\n",
    "\n",
    "You can read more about the way the features were extracted in [<cite>[5]</cite>](https://www.spiedigitallibrary.org/conference-proceedings-of-spie/9414/1/Spinal-focal-lesion-detection-in-multiple-myeloma-using-multimodal-image/10.1117/12.2081990.short?SSO=1), where authors have used a similar feature extraction method. \n"
   ]
  },
  {
   "cell_type": "markdown",
   "metadata": {
    "nbgrader": {
     "grade": false,
     "grade_id": "cell-92aec094a0fce0ad",
     "locked": true,
     "schema_version": 1,
     "solution": false
    }
   },
   "source": [
    "***\n",
    "### Task 1: Prepare the data for Machine Learning Algorithms  \n",
    "\n",
    "Before doing any manipulations to the data, lets inspect it first. Open metastases features of the first patient and have a look at the data using the head() and info() commands. In order to create an effective training dataset, several preprocessing steps have to be performed. The following steps have to be performed for each patient's data individually. \n",
    "__Hint__: it is useful to use a for loop, performing all of the following steps for each patient (1-9). \n",
    "<br><br>\n",
    "1. __Removing useless columns.__ Have a look at the *head()* of the dataframe. Some columns are not needed at your classifier training stage since they do not hold any relevant information. Remove the column with the ordinal number and all three positional columns (X,Y,Z). Your dataset should be 4 columns narrower in shape now.\n",
    "<br><br>\n",
    "2. __Handling missing data.__ Most machine learning algorithms cannot work with missing features, so let's take care of that. Use panda's function *info()* to check if any feature has missing 'not-a-number' values. You can solve that problem easily by either dropping those lines with a *dropna()* function or setting them to zero, mean or median of the feature column (function *fillna()*). Because the more the data, usually, the better the performance of the classifier, lets substitute the missing values with the median of the column in which the values are missing.\n",
    "<br><br>\n",
    "3. __Separation of data.__ Separate the training set from the labels (classes). Save the training set as X and label column as Y.\n",
    "<br><br>\n",
    "4. __Concatenation of features.__ Inside the for loop, concatenate all dataframes. __Hint__: In order to append all patient's data, create two empty dataframes (intensity train dataset and label column) and copy column names from the first patient's dataframe. Append empty dataframes with new data with every iteration of the loop. The function should return a formated intensity dataframe and Y dataframe containing the label column. \n",
    "<br><br>\n"
   ]
  },
  {
   "cell_type": "code",
   "execution_count": 90,
   "metadata": {
    "collapsed": true,
    "scrolled": true
   },
   "outputs": [],
   "source": [
    "### Code for Task 1\n",
    "import pandas as pd\n",
    "import os\n",
    "\n",
    "patient_1 = pd.read_csv(\"./Data/Patient_1/Features_Balanced.csv\")"
   ]
  },
  {
   "cell_type": "code",
   "execution_count": 91,
   "metadata": {},
   "outputs": [
    {
     "data": {
      "text/html": [
       "<div>\n",
       "<style scoped>\n",
       "    .dataframe tbody tr th:only-of-type {\n",
       "        vertical-align: middle;\n",
       "    }\n",
       "\n",
       "    .dataframe tbody tr th {\n",
       "        vertical-align: top;\n",
       "    }\n",
       "\n",
       "    .dataframe thead th {\n",
       "        text-align: right;\n",
       "    }\n",
       "</style>\n",
       "<table border=\"1\" class=\"dataframe\">\n",
       "  <thead>\n",
       "    <tr style=\"text-align: right;\">\n",
       "      <th></th>\n",
       "      <th>Unnamed: 0</th>\n",
       "      <th>T1</th>\n",
       "      <th>Mean_T1</th>\n",
       "      <th>Median_T1</th>\n",
       "      <th>Max_T1</th>\n",
       "      <th>Min_T1</th>\n",
       "      <th>B0</th>\n",
       "      <th>Mean_B0</th>\n",
       "      <th>Median_B0</th>\n",
       "      <th>Max_B0</th>\n",
       "      <th>...</th>\n",
       "      <th>Min_B2000</th>\n",
       "      <th>ADC</th>\n",
       "      <th>Mean_ADC</th>\n",
       "      <th>Median_ADC</th>\n",
       "      <th>Max_ADC</th>\n",
       "      <th>Min_ADC</th>\n",
       "      <th>Position_X</th>\n",
       "      <th>Position_Y</th>\n",
       "      <th>Position_Z</th>\n",
       "      <th>class</th>\n",
       "    </tr>\n",
       "  </thead>\n",
       "  <tbody>\n",
       "    <tr>\n",
       "      <th>0</th>\n",
       "      <td>0</td>\n",
       "      <td>653.0</td>\n",
       "      <td>864.664</td>\n",
       "      <td>863.0</td>\n",
       "      <td>1150.0</td>\n",
       "      <td>517.0</td>\n",
       "      <td>63.0</td>\n",
       "      <td>81.872</td>\n",
       "      <td>61.0</td>\n",
       "      <td>454.0</td>\n",
       "      <td>...</td>\n",
       "      <td>4.0</td>\n",
       "      <td>787.0</td>\n",
       "      <td>905.912</td>\n",
       "      <td>873.0</td>\n",
       "      <td>1773.0</td>\n",
       "      <td>197.0</td>\n",
       "      <td>15</td>\n",
       "      <td>888</td>\n",
       "      <td>264</td>\n",
       "      <td>healthy</td>\n",
       "    </tr>\n",
       "    <tr>\n",
       "      <th>1</th>\n",
       "      <td>1</td>\n",
       "      <td>622.0</td>\n",
       "      <td>759.960</td>\n",
       "      <td>778.0</td>\n",
       "      <td>1024.0</td>\n",
       "      <td>442.0</td>\n",
       "      <td>59.0</td>\n",
       "      <td>97.400</td>\n",
       "      <td>95.0</td>\n",
       "      <td>227.0</td>\n",
       "      <td>...</td>\n",
       "      <td>5.0</td>\n",
       "      <td>758.0</td>\n",
       "      <td>907.400</td>\n",
       "      <td>758.0</td>\n",
       "      <td>1755.0</td>\n",
       "      <td>427.0</td>\n",
       "      <td>15</td>\n",
       "      <td>892</td>\n",
       "      <td>222</td>\n",
       "      <td>healthy</td>\n",
       "    </tr>\n",
       "    <tr>\n",
       "      <th>2</th>\n",
       "      <td>2</td>\n",
       "      <td>1047.0</td>\n",
       "      <td>781.800</td>\n",
       "      <td>778.0</td>\n",
       "      <td>1047.0</td>\n",
       "      <td>493.0</td>\n",
       "      <td>67.0</td>\n",
       "      <td>102.248</td>\n",
       "      <td>88.0</td>\n",
       "      <td>462.0</td>\n",
       "      <td>...</td>\n",
       "      <td>5.0</td>\n",
       "      <td>862.0</td>\n",
       "      <td>890.144</td>\n",
       "      <td>868.0</td>\n",
       "      <td>1807.0</td>\n",
       "      <td>45.0</td>\n",
       "      <td>16</td>\n",
       "      <td>296</td>\n",
       "      <td>264</td>\n",
       "      <td>healthy</td>\n",
       "    </tr>\n",
       "    <tr>\n",
       "      <th>3</th>\n",
       "      <td>3</td>\n",
       "      <td>728.0</td>\n",
       "      <td>612.944</td>\n",
       "      <td>607.0</td>\n",
       "      <td>819.0</td>\n",
       "      <td>395.0</td>\n",
       "      <td>1853.0</td>\n",
       "      <td>1140.992</td>\n",
       "      <td>1326.0</td>\n",
       "      <td>2056.0</td>\n",
       "      <td>...</td>\n",
       "      <td>0.0</td>\n",
       "      <td>1957.0</td>\n",
       "      <td>2130.600</td>\n",
       "      <td>1946.0</td>\n",
       "      <td>4004.0</td>\n",
       "      <td>558.0</td>\n",
       "      <td>17</td>\n",
       "      <td>287</td>\n",
       "      <td>248</td>\n",
       "      <td>healthy</td>\n",
       "    </tr>\n",
       "    <tr>\n",
       "      <th>4</th>\n",
       "      <td>4</td>\n",
       "      <td>953.0</td>\n",
       "      <td>780.696</td>\n",
       "      <td>800.0</td>\n",
       "      <td>1023.0</td>\n",
       "      <td>483.0</td>\n",
       "      <td>99.0</td>\n",
       "      <td>193.384</td>\n",
       "      <td>91.0</td>\n",
       "      <td>1271.0</td>\n",
       "      <td>...</td>\n",
       "      <td>1.0</td>\n",
       "      <td>326.0</td>\n",
       "      <td>889.504</td>\n",
       "      <td>822.0</td>\n",
       "      <td>2377.0</td>\n",
       "      <td>167.0</td>\n",
       "      <td>17</td>\n",
       "      <td>303</td>\n",
       "      <td>249</td>\n",
       "      <td>healthy</td>\n",
       "    </tr>\n",
       "  </tbody>\n",
       "</table>\n",
       "<p>5 rows × 35 columns</p>\n",
       "</div>"
      ],
      "text/plain": [
       "   Unnamed: 0      T1  Mean_T1  Median_T1  Max_T1  Min_T1      B0   Mean_B0  \\\n",
       "0           0   653.0  864.664      863.0  1150.0   517.0    63.0    81.872   \n",
       "1           1   622.0  759.960      778.0  1024.0   442.0    59.0    97.400   \n",
       "2           2  1047.0  781.800      778.0  1047.0   493.0    67.0   102.248   \n",
       "3           3   728.0  612.944      607.0   819.0   395.0  1853.0  1140.992   \n",
       "4           4   953.0  780.696      800.0  1023.0   483.0    99.0   193.384   \n",
       "\n",
       "   Median_B0  Max_B0  ...  Min_B2000     ADC  Mean_ADC  Median_ADC  Max_ADC  \\\n",
       "0       61.0   454.0  ...        4.0   787.0   905.912       873.0   1773.0   \n",
       "1       95.0   227.0  ...        5.0   758.0   907.400       758.0   1755.0   \n",
       "2       88.0   462.0  ...        5.0   862.0   890.144       868.0   1807.0   \n",
       "3     1326.0  2056.0  ...        0.0  1957.0  2130.600      1946.0   4004.0   \n",
       "4       91.0  1271.0  ...        1.0   326.0   889.504       822.0   2377.0   \n",
       "\n",
       "   Min_ADC  Position_X  Position_Y  Position_Z    class  \n",
       "0    197.0          15         888         264  healthy  \n",
       "1    427.0          15         892         222  healthy  \n",
       "2     45.0          16         296         264  healthy  \n",
       "3    558.0          17         287         248  healthy  \n",
       "4    167.0          17         303         249  healthy  \n",
       "\n",
       "[5 rows x 35 columns]"
      ]
     },
     "execution_count": 91,
     "metadata": {},
     "output_type": "execute_result"
    }
   ],
   "source": [
    "patient_1.head()"
   ]
  },
  {
   "cell_type": "code",
   "execution_count": 92,
   "metadata": {},
   "outputs": [
    {
     "name": "stdout",
     "output_type": "stream",
     "text": [
      "<class 'pandas.core.frame.DataFrame'>\n",
      "RangeIndex: 1368 entries, 0 to 1367\n",
      "Data columns (total 35 columns):\n",
      " #   Column        Non-Null Count  Dtype  \n",
      "---  ------        --------------  -----  \n",
      " 0   Unnamed: 0    1368 non-null   int64  \n",
      " 1   T1            1368 non-null   float64\n",
      " 2   Mean_T1       1368 non-null   float64\n",
      " 3   Median_T1     1368 non-null   float64\n",
      " 4   Max_T1        1368 non-null   float64\n",
      " 5   Min_T1        1368 non-null   float64\n",
      " 6   B0            1368 non-null   float64\n",
      " 7   Mean_B0       1368 non-null   float64\n",
      " 8   Median_B0     1368 non-null   float64\n",
      " 9   Max_B0        1368 non-null   float64\n",
      " 10  Min_B0        1368 non-null   float64\n",
      " 11  B1000         1368 non-null   float64\n",
      " 12  Mean_B1000    1368 non-null   float64\n",
      " 13  Median_B1000  1368 non-null   float64\n",
      " 14  Max_B1000     1368 non-null   float64\n",
      " 15  Min_B1000     1368 non-null   float64\n",
      " 16  B1500         1368 non-null   float64\n",
      " 17  Mean_B1500    1368 non-null   float64\n",
      " 18  Median_B1500  1368 non-null   float64\n",
      " 19  Max_B1500     1368 non-null   float64\n",
      " 20  Min_B1500     1368 non-null   float64\n",
      " 21  B2000         1368 non-null   float64\n",
      " 22  Mean_B2000    1368 non-null   float64\n",
      " 23  Median_B2000  1368 non-null   float64\n",
      " 24  Max_B2000     1368 non-null   float64\n",
      " 25  Min_B2000     1368 non-null   float64\n",
      " 26  ADC           1368 non-null   float64\n",
      " 27  Mean_ADC      1368 non-null   float64\n",
      " 28  Median_ADC    1368 non-null   float64\n",
      " 29  Max_ADC       1368 non-null   float64\n",
      " 30  Min_ADC       1368 non-null   float64\n",
      " 31  Position_X    1368 non-null   int64  \n",
      " 32  Position_Y    1368 non-null   int64  \n",
      " 33  Position_Z    1368 non-null   int64  \n",
      " 34  class         1368 non-null   object \n",
      "dtypes: float64(30), int64(4), object(1)\n",
      "memory usage: 374.2+ KB\n"
     ]
    }
   ],
   "source": [
    "patient_1.info()"
   ]
  },
  {
   "cell_type": "code",
   "execution_count": 93,
   "metadata": {},
   "outputs": [],
   "source": [
    "def prepareData(path):\n",
    "    X = pd.DataFrame()\n",
    "    y = pd.DataFrame()\n",
    "    for file in os.listdir(path):\n",
    "        if file != \".DS_Store\" and file != \"Patient_Test\":\n",
    "            patientFile = path+\"/\"+file+\"/Features_Balanced.csv\"\n",
    "            if patientFile.endswith(\".csv\"):\n",
    "                data = pd.read_csv(patientFile)\n",
    "                data = data.drop(['Unnamed: 0','Position_X','Position_Y','Position_Z'], axis=1)\n",
    "                data = data.fillna(data.median())\n",
    "                #  why are we doing this?\n",
    "                # data = data.dropna()\n",
    "                intensityTrain = data.drop('class', axis=1)\n",
    "                label = pd.DataFrame(data['class'])\n",
    "                X = X.append(intensityTrain,ignore_index=True)\n",
    "                y = y.append(label,ignore_index=True)\n",
    "    return X.iloc[:,:-1],y"
   ]
  },
  {
   "cell_type": "code",
   "execution_count": 118,
   "metadata": {},
   "outputs": [],
   "source": [
    "intensityTrainData,label = prepareData(\"./Data\")"
   ]
  },
  {
   "cell_type": "code",
   "execution_count": 117,
   "metadata": {},
   "outputs": [
    {
     "data": {
      "text/html": [
       "<div>\n",
       "<style scoped>\n",
       "    .dataframe tbody tr th:only-of-type {\n",
       "        vertical-align: middle;\n",
       "    }\n",
       "\n",
       "    .dataframe tbody tr th {\n",
       "        vertical-align: top;\n",
       "    }\n",
       "\n",
       "    .dataframe thead th {\n",
       "        text-align: right;\n",
       "    }\n",
       "</style>\n",
       "<table border=\"1\" class=\"dataframe\">\n",
       "  <thead>\n",
       "    <tr style=\"text-align: right;\">\n",
       "      <th></th>\n",
       "      <th>T1</th>\n",
       "      <th>Mean_T1</th>\n",
       "      <th>Median_T1</th>\n",
       "      <th>Max_T1</th>\n",
       "      <th>Min_T1</th>\n",
       "      <th>B0</th>\n",
       "      <th>Mean_B0</th>\n",
       "      <th>Median_B0</th>\n",
       "      <th>Max_B0</th>\n",
       "      <th>Min_B0</th>\n",
       "      <th>...</th>\n",
       "      <th>B2000</th>\n",
       "      <th>Mean_B2000</th>\n",
       "      <th>Median_B2000</th>\n",
       "      <th>Max_B2000</th>\n",
       "      <th>Min_B2000</th>\n",
       "      <th>ADC</th>\n",
       "      <th>Mean_ADC</th>\n",
       "      <th>Median_ADC</th>\n",
       "      <th>Max_ADC</th>\n",
       "      <th>Min_ADC</th>\n",
       "    </tr>\n",
       "  </thead>\n",
       "  <tbody>\n",
       "    <tr>\n",
       "      <th>0</th>\n",
       "      <td>653.0</td>\n",
       "      <td>864.664</td>\n",
       "      <td>863.0</td>\n",
       "      <td>1150.0</td>\n",
       "      <td>517.0</td>\n",
       "      <td>63.0</td>\n",
       "      <td>81.872</td>\n",
       "      <td>61.0</td>\n",
       "      <td>454.0</td>\n",
       "      <td>7.0</td>\n",
       "      <td>...</td>\n",
       "      <td>14.0</td>\n",
       "      <td>11.920</td>\n",
       "      <td>12.0</td>\n",
       "      <td>21.0</td>\n",
       "      <td>4.0</td>\n",
       "      <td>787.0</td>\n",
       "      <td>905.912</td>\n",
       "      <td>873.0</td>\n",
       "      <td>1773.0</td>\n",
       "      <td>197.0</td>\n",
       "    </tr>\n",
       "    <tr>\n",
       "      <th>1</th>\n",
       "      <td>622.0</td>\n",
       "      <td>759.960</td>\n",
       "      <td>778.0</td>\n",
       "      <td>1024.0</td>\n",
       "      <td>442.0</td>\n",
       "      <td>59.0</td>\n",
       "      <td>97.400</td>\n",
       "      <td>95.0</td>\n",
       "      <td>227.0</td>\n",
       "      <td>34.0</td>\n",
       "      <td>...</td>\n",
       "      <td>20.0</td>\n",
       "      <td>13.728</td>\n",
       "      <td>13.0</td>\n",
       "      <td>22.0</td>\n",
       "      <td>5.0</td>\n",
       "      <td>758.0</td>\n",
       "      <td>907.400</td>\n",
       "      <td>758.0</td>\n",
       "      <td>1755.0</td>\n",
       "      <td>427.0</td>\n",
       "    </tr>\n",
       "    <tr>\n",
       "      <th>2</th>\n",
       "      <td>1047.0</td>\n",
       "      <td>781.800</td>\n",
       "      <td>778.0</td>\n",
       "      <td>1047.0</td>\n",
       "      <td>493.0</td>\n",
       "      <td>67.0</td>\n",
       "      <td>102.248</td>\n",
       "      <td>88.0</td>\n",
       "      <td>462.0</td>\n",
       "      <td>0.0</td>\n",
       "      <td>...</td>\n",
       "      <td>12.0</td>\n",
       "      <td>11.640</td>\n",
       "      <td>11.0</td>\n",
       "      <td>19.0</td>\n",
       "      <td>5.0</td>\n",
       "      <td>862.0</td>\n",
       "      <td>890.144</td>\n",
       "      <td>868.0</td>\n",
       "      <td>1807.0</td>\n",
       "      <td>45.0</td>\n",
       "    </tr>\n",
       "    <tr>\n",
       "      <th>3</th>\n",
       "      <td>728.0</td>\n",
       "      <td>612.944</td>\n",
       "      <td>607.0</td>\n",
       "      <td>819.0</td>\n",
       "      <td>395.0</td>\n",
       "      <td>1853.0</td>\n",
       "      <td>1140.992</td>\n",
       "      <td>1326.0</td>\n",
       "      <td>2056.0</td>\n",
       "      <td>61.0</td>\n",
       "      <td>...</td>\n",
       "      <td>1.0</td>\n",
       "      <td>11.544</td>\n",
       "      <td>7.0</td>\n",
       "      <td>39.0</td>\n",
       "      <td>0.0</td>\n",
       "      <td>1957.0</td>\n",
       "      <td>2130.600</td>\n",
       "      <td>1946.0</td>\n",
       "      <td>4004.0</td>\n",
       "      <td>558.0</td>\n",
       "    </tr>\n",
       "    <tr>\n",
       "      <th>4</th>\n",
       "      <td>953.0</td>\n",
       "      <td>780.696</td>\n",
       "      <td>800.0</td>\n",
       "      <td>1023.0</td>\n",
       "      <td>483.0</td>\n",
       "      <td>99.0</td>\n",
       "      <td>193.384</td>\n",
       "      <td>91.0</td>\n",
       "      <td>1271.0</td>\n",
       "      <td>0.0</td>\n",
       "      <td>...</td>\n",
       "      <td>15.0</td>\n",
       "      <td>16.120</td>\n",
       "      <td>18.0</td>\n",
       "      <td>24.0</td>\n",
       "      <td>1.0</td>\n",
       "      <td>326.0</td>\n",
       "      <td>889.504</td>\n",
       "      <td>822.0</td>\n",
       "      <td>2377.0</td>\n",
       "      <td>167.0</td>\n",
       "    </tr>\n",
       "  </tbody>\n",
       "</table>\n",
       "<p>5 rows × 30 columns</p>\n",
       "</div>"
      ],
      "text/plain": [
       "       T1  Mean_T1  Median_T1  Max_T1  Min_T1      B0   Mean_B0  Median_B0  \\\n",
       "0   653.0  864.664      863.0  1150.0   517.0    63.0    81.872       61.0   \n",
       "1   622.0  759.960      778.0  1024.0   442.0    59.0    97.400       95.0   \n",
       "2  1047.0  781.800      778.0  1047.0   493.0    67.0   102.248       88.0   \n",
       "3   728.0  612.944      607.0   819.0   395.0  1853.0  1140.992     1326.0   \n",
       "4   953.0  780.696      800.0  1023.0   483.0    99.0   193.384       91.0   \n",
       "\n",
       "   Max_B0  Min_B0  ...  B2000  Mean_B2000  Median_B2000  Max_B2000  Min_B2000  \\\n",
       "0   454.0     7.0  ...   14.0      11.920          12.0       21.0        4.0   \n",
       "1   227.0    34.0  ...   20.0      13.728          13.0       22.0        5.0   \n",
       "2   462.0     0.0  ...   12.0      11.640          11.0       19.0        5.0   \n",
       "3  2056.0    61.0  ...    1.0      11.544           7.0       39.0        0.0   \n",
       "4  1271.0     0.0  ...   15.0      16.120          18.0       24.0        1.0   \n",
       "\n",
       "      ADC  Mean_ADC  Median_ADC  Max_ADC  Min_ADC  \n",
       "0   787.0   905.912       873.0   1773.0    197.0  \n",
       "1   758.0   907.400       758.0   1755.0    427.0  \n",
       "2   862.0   890.144       868.0   1807.0     45.0  \n",
       "3  1957.0  2130.600      1946.0   4004.0    558.0  \n",
       "4   326.0   889.504       822.0   2377.0    167.0  \n",
       "\n",
       "[5 rows x 30 columns]"
      ]
     },
     "execution_count": 117,
     "metadata": {},
     "output_type": "execute_result"
    }
   ],
   "source": [
    "intensityTrainData.head()\n"
   ]
  },
  {
   "cell_type": "code",
   "execution_count": 119,
   "metadata": {},
   "outputs": [
    {
     "data": {
      "text/html": [
       "<div>\n",
       "<style scoped>\n",
       "    .dataframe tbody tr th:only-of-type {\n",
       "        vertical-align: middle;\n",
       "    }\n",
       "\n",
       "    .dataframe tbody tr th {\n",
       "        vertical-align: top;\n",
       "    }\n",
       "\n",
       "    .dataframe thead th {\n",
       "        text-align: right;\n",
       "    }\n",
       "</style>\n",
       "<table border=\"1\" class=\"dataframe\">\n",
       "  <thead>\n",
       "    <tr style=\"text-align: right;\">\n",
       "      <th></th>\n",
       "      <th>class</th>\n",
       "    </tr>\n",
       "  </thead>\n",
       "  <tbody>\n",
       "    <tr>\n",
       "      <th>0</th>\n",
       "      <td>healthy</td>\n",
       "    </tr>\n",
       "    <tr>\n",
       "      <th>1</th>\n",
       "      <td>healthy</td>\n",
       "    </tr>\n",
       "    <tr>\n",
       "      <th>2</th>\n",
       "      <td>healthy</td>\n",
       "    </tr>\n",
       "    <tr>\n",
       "      <th>3</th>\n",
       "      <td>healthy</td>\n",
       "    </tr>\n",
       "    <tr>\n",
       "      <th>4</th>\n",
       "      <td>healthy</td>\n",
       "    </tr>\n",
       "  </tbody>\n",
       "</table>\n",
       "</div>"
      ],
      "text/plain": [
       "     class\n",
       "0  healthy\n",
       "1  healthy\n",
       "2  healthy\n",
       "3  healthy\n",
       "4  healthy"
      ]
     },
     "execution_count": 119,
     "metadata": {},
     "output_type": "execute_result"
    }
   ],
   "source": [
    "label.head()"
   ]
  },
  {
   "cell_type": "markdown",
   "metadata": {
    "nbgrader": {
     "grade": false,
     "grade_id": "cell-f6c66177f031a4ae",
     "locked": true,
     "schema_version": 1,
     "solution": false
    }
   },
   "source": [
    "***\n",
    "### Task 2: Data visualization \n",
    "\n",
    "Make a scatter plot and a seaborn's kde plot showing relation of the classes (healthy/lesion) for the T1 intensity vs B-1000 intensity.\n",
    "\n",
    "Which plot is better for the visualization of that many datapoints (scatter or kde)?"
   ]
  },
  {
   "cell_type": "markdown",
   "metadata": {},
   "source": [
    "YOUR ANSWER HERE"
   ]
  },
  {
   "cell_type": "code",
   "execution_count": 115,
   "metadata": {
    "collapsed": true
   },
   "outputs": [
    {
     "ename": "AttributeError",
     "evalue": "'numpy.ndarray' object has no attribute 'replace'",
     "output_type": "error",
     "traceback": [
      "\u001b[1;31m---------------------------------------------------------------------------\u001b[0m",
      "\u001b[1;31mAttributeError\u001b[0m                            Traceback (most recent call last)",
      "\u001b[1;32mc:\\Users\\tripa\\OneDrive - Vrije Universiteit Brussel\\Clinical Decision Support Systems\\Clinical-Decision-Practicals\\WPO3\\WPO3.ipynb Cell 14'\u001b[0m in \u001b[0;36m<module>\u001b[1;34m\u001b[0m\n\u001b[0;32m      <a href='vscode-notebook-cell:/c%3A/Users/tripa/OneDrive%20-%20Vrije%20Universiteit%20Brussel/Clinical%20Decision%20Support%20Systems/Clinical-Decision-Practicals/WPO3/WPO3.ipynb#ch0000011?line=2'>3</a>\u001b[0m \u001b[39mimport\u001b[39;00m \u001b[39mmatplotlib\u001b[39;00m\u001b[39m.\u001b[39;00m\u001b[39mpyplot\u001b[39;00m \u001b[39mas\u001b[39;00m \u001b[39mplt\u001b[39;00m\n\u001b[0;32m      <a href='vscode-notebook-cell:/c%3A/Users/tripa/OneDrive%20-%20Vrije%20Universiteit%20Brussel/Clinical%20Decision%20Support%20Systems/Clinical-Decision-Practicals/WPO3/WPO3.ipynb#ch0000011?line=3'>4</a>\u001b[0m get_ipython()\u001b[39m.\u001b[39mrun_line_magic(\u001b[39m'\u001b[39m\u001b[39mmatplotlib\u001b[39m\u001b[39m'\u001b[39m, \u001b[39m'\u001b[39m\u001b[39minline\u001b[39m\u001b[39m'\u001b[39m)\n\u001b[1;32m----> <a href='vscode-notebook-cell:/c%3A/Users/tripa/OneDrive%20-%20Vrije%20Universiteit%20Brussel/Clinical%20Decision%20Support%20Systems/Clinical-Decision-Practicals/WPO3/WPO3.ipynb#ch0000011?line=5'>6</a>\u001b[0m label1 \u001b[39m=\u001b[39m label\u001b[39m.\u001b[39;49mreplace({\u001b[39m'\u001b[39m\u001b[39mhealthy\u001b[39m\u001b[39m'\u001b[39m:\u001b[39m0\u001b[39m,\u001b[39m'\u001b[39m\u001b[39mlesion\u001b[39m\u001b[39m'\u001b[39m:\u001b[39m1\u001b[39m}) \n\u001b[0;32m      <a href='vscode-notebook-cell:/c%3A/Users/tripa/OneDrive%20-%20Vrije%20Universiteit%20Brussel/Clinical%20Decision%20Support%20Systems/Clinical-Decision-Practicals/WPO3/WPO3.ipynb#ch0000011?line=6'>7</a>\u001b[0m concatDataset \u001b[39m=\u001b[39m pd\u001b[39m.\u001b[39mconcat([intensityTrainData,label1], axis \u001b[39m=\u001b[39m \u001b[39m1\u001b[39m, sort \u001b[39m=\u001b[39m \u001b[39mFalse\u001b[39;00m)\n\u001b[0;32m      <a href='vscode-notebook-cell:/c%3A/Users/tripa/OneDrive%20-%20Vrije%20Universiteit%20Brussel/Clinical%20Decision%20Support%20Systems/Clinical-Decision-Practicals/WPO3/WPO3.ipynb#ch0000011?line=7'>8</a>\u001b[0m concatDataset\u001b[39m.\u001b[39mhead()\n",
      "\u001b[1;31mAttributeError\u001b[0m: 'numpy.ndarray' object has no attribute 'replace'"
     ]
    }
   ],
   "source": [
    "### Code for Task 2\n",
    "import seaborn as sns\n",
    "import matplotlib.pyplot as plt\n",
    "%matplotlib inline\n",
    "\n",
    "label1 = label.replace({'healthy':0,'lesion':1}) \n",
    "concatDataset = pd.concat([intensityTrainData,label1], axis = 1, sort = False)\n",
    "concatDataset.head()"
   ]
  },
  {
   "cell_type": "code",
   "execution_count": 98,
   "metadata": {},
   "outputs": [],
   "source": [
    "healthy = concatDataset.loc[concatDataset['class'] == 0]\n",
    "lesion = concatDataset.loc[concatDataset['class'] == 1]"
   ]
  },
  {
   "cell_type": "code",
   "execution_count": 99,
   "metadata": {},
   "outputs": [
    {
     "data": {
      "text/plain": [
       "<Figure size 432x288 with 0 Axes>"
      ]
     },
     "execution_count": 99,
     "metadata": {},
     "output_type": "execute_result"
    },
    {
     "data": {
      "image/png": "[encoded data removed]",
      "text/plain": [
       "<Figure size 432x288 with 1 Axes>"
      ]
     },
     "metadata": {
      "needs_background": "light"
     },
     "output_type": "display_data"
    },
    {
     "data": {
      "text/plain": [
       "<Figure size 432x288 with 0 Axes>"
      ]
     },
     "metadata": {},
     "output_type": "display_data"
    }
   ],
   "source": [
    "# Scatter plot\n",
    "plt.scatter(healthy['T1'], healthy['B1000'],color='green',label='healthy',\n",
    "            alpha = 0.1)\n",
    "plt.scatter(lesion['T1'], lesion['B1000'],color='orange',label='lesion',\n",
    "            alpha= 0.1)\n",
    "plt.legend(loc='upper right')\n",
    "plt.xlabel('T1')\n",
    "plt.ylabel('B1000')\n",
    "plt.figure()"
   ]
  },
  {
   "cell_type": "code",
   "execution_count": 15,
   "metadata": {},
   "outputs": [],
   "source": [
    "# KDE-Plot\n",
    "sns.kdeplot(healthy['T1'], healthy['B1000'],label = \"Healthy\")\n",
    "sns.kdeplot(lesion['T1'], lesion['B1000'], label = \"Lesion\")\n",
    "plt.legend(loc='upper right')\n",
    "plt.figure()"
   ]
  },
  {
   "cell_type": "markdown",
   "metadata": {
    "nbgrader": {
     "grade": false,
     "grade_id": "cell-4760bf6416fa5c37",
     "locked": true,
     "schema_version": 1,
     "solution": false
    }
   },
   "source": [
    "***\n",
    "### Task 3: Training classifiers\n",
    "\n",
    "After the data is preprocessed and formated for machine learning purposes, lets train our first classifier. In order to have a reliable and unbiased result of the classifier accuracy, the classifier cannot be trained on the same data, which later is used for validation. Therefore, you have to split your dataset into training and testing data. A quick option is to use Scikit-Learn's __cross-validation__ feature. It performs a K-fold cross-validation: it randomly splits the training set into *K* distinct subsets called folds, then trains and evaluates your classifier model *K* times, picking a different fold for evaluation every time and training on the other *K-1* folds. The result will contain *K* evaluation scores. Additionally, shuffle your data during cross-validation to make sure that you use an equal part of each patient data. __Hint__: [__ShuffleSplit__](http://scikit-learn.org/stable/modules/cross_validation.html#computing-cross-validated-metrics)\n",
    "\n",
    "Declare two classifier models: random forest and K-neighbors classifier and using the function *cross_val_score* calculate the mean of 10-fold cross validation on your feature dataset. Print the obtained scores per classifier, their mean and standard deviation.\n",
    "\n",
    "What is the accuracy score? Which classifier performed best? "
   ]
  },
  {
   "cell_type": "markdown",
   "metadata": {},
   "source": [
    "YOUR ANSWER HERE"
   ]
  },
  {
   "cell_type": "code",
   "execution_count": 100,
   "metadata": {
    "collapsed": true,
    "scrolled": true
   },
   "outputs": [],
   "source": [
    "### Code for Task 3 \n",
    "from sklearn.ensemble import RandomForestClassifier\n",
    "from sklearn.neighbors import KNeighborsClassifier\n",
    "from sklearn.model_selection import cross_val_score\n",
    "from sklearn.model_selection import ShuffleSplit\n",
    "import warnings\n",
    "warnings.filterwarnings('ignore')"
   ]
  },
  {
   "cell_type": "code",
   "execution_count": 101,
   "metadata": {},
   "outputs": [],
   "source": [
    "shuffle = ShuffleSplit(n_splits=10)"
   ]
  },
  {
   "cell_type": "code",
   "execution_count": 102,
   "metadata": {},
   "outputs": [],
   "source": [
    "model1 = RandomForestClassifier(n_estimators=20)\n",
    "cv1_results = cross_val_score(model1, intensityTrainData, label, cv=shuffle)"
   ]
  },
  {
   "cell_type": "code",
   "execution_count": 33,
   "metadata": {},
   "outputs": [
    {
     "ename": "KeyboardInterrupt",
     "evalue": "",
     "output_type": "error",
     "traceback": [
      "\u001b[1;31m---------------------------------------------------------------------------\u001b[0m",
      "\u001b[1;31mKeyboardInterrupt\u001b[0m                         Traceback (most recent call last)",
      "\u001b[1;32mc:\\Users\\tripa\\OneDrive - Vrije Universiteit Brussel\\Clinical Decision Support Systems\\Clinical-Decision-Practicals\\WPO3\\WPO3.ipynb Cell 23'\u001b[0m in \u001b[0;36m<module>\u001b[1;34m\u001b[0m\n\u001b[0;32m      <a href='vscode-notebook-cell:/c%3A/Users/tripa/OneDrive%20-%20Vrije%20Universiteit%20Brussel/Clinical%20Decision%20Support%20Systems/Clinical-Decision-Practicals/WPO3/WPO3.ipynb#ch0000020?line=0'>1</a>\u001b[0m model2 \u001b[39m=\u001b[39m KNeighborsClassifier(n_neighbors\u001b[39m=\u001b[39m\u001b[39m5\u001b[39m)\n\u001b[1;32m----> <a href='vscode-notebook-cell:/c%3A/Users/tripa/OneDrive%20-%20Vrije%20Universiteit%20Brussel/Clinical%20Decision%20Support%20Systems/Clinical-Decision-Practicals/WPO3/WPO3.ipynb#ch0000020?line=1'>2</a>\u001b[0m cv2_results \u001b[39m=\u001b[39m cross_val_score(model2,intensityTrainData, label\u001b[39m.\u001b[39;49mvalues\u001b[39m.\u001b[39;49mravel(), cv\u001b[39m=\u001b[39;49mshuffle)\n",
      "File \u001b[1;32m~\\AppData\\Local\\Programs\\Python\\Python310\\lib\\site-packages\\sklearn\\model_selection\\_validation.py:509\u001b[0m, in \u001b[0;36mcross_val_score\u001b[1;34m(estimator, X, y, groups, scoring, cv, n_jobs, verbose, fit_params, pre_dispatch, error_score)\u001b[0m\n\u001b[0;32m    <a href='file:///c%3A/Users/tripa/AppData/Local/Programs/Python/Python310/lib/site-packages/sklearn/model_selection/_validation.py?line=505'>506</a>\u001b[0m \u001b[39m# To ensure multimetric format is not supported\u001b[39;00m\n\u001b[0;32m    <a href='file:///c%3A/Users/tripa/AppData/Local/Programs/Python/Python310/lib/site-packages/sklearn/model_selection/_validation.py?line=506'>507</a>\u001b[0m scorer \u001b[39m=\u001b[39m check_scoring(estimator, scoring\u001b[39m=\u001b[39mscoring)\n\u001b[1;32m--> <a href='file:///c%3A/Users/tripa/AppData/Local/Programs/Python/Python310/lib/site-packages/sklearn/model_selection/_validation.py?line=508'>509</a>\u001b[0m cv_results \u001b[39m=\u001b[39m cross_validate(\n\u001b[0;32m    <a href='file:///c%3A/Users/tripa/AppData/Local/Programs/Python/Python310/lib/site-packages/sklearn/model_selection/_validation.py?line=509'>510</a>\u001b[0m     estimator\u001b[39m=\u001b[39;49mestimator,\n\u001b[0;32m    <a href='file:///c%3A/Users/tripa/AppData/Local/Programs/Python/Python310/lib/site-packages/sklearn/model_selection/_validation.py?line=510'>511</a>\u001b[0m     X\u001b[39m=\u001b[39;49mX,\n\u001b[0;32m    <a href='file:///c%3A/Users/tripa/AppData/Local/Programs/Python/Python310/lib/site-packages/sklearn/model_selection/_validation.py?line=511'>512</a>\u001b[0m     y\u001b[39m=\u001b[39;49my,\n\u001b[0;32m    <a href='file:///c%3A/Users/tripa/AppData/Local/Programs/Python/Python310/lib/site-packages/sklearn/model_selection/_validation.py?line=512'>513</a>\u001b[0m     groups\u001b[39m=\u001b[39;49mgroups,\n\u001b[0;32m    <a href='file:///c%3A/Users/tripa/AppData/Local/Programs/Python/Python310/lib/site-packages/sklearn/model_selection/_validation.py?line=513'>514</a>\u001b[0m     scoring\u001b[39m=\u001b[39;49m{\u001b[39m\"\u001b[39;49m\u001b[39mscore\u001b[39;49m\u001b[39m\"\u001b[39;49m: scorer},\n\u001b[0;32m    <a href='file:///c%3A/Users/tripa/AppData/Local/Programs/Python/Python310/lib/site-packages/sklearn/model_selection/_validation.py?line=514'>515</a>\u001b[0m     cv\u001b[39m=\u001b[39;49mcv,\n\u001b[0;32m    <a href='file:///c%3A/Users/tripa/AppData/Local/Programs/Python/Python310/lib/site-packages/sklearn/model_selection/_validation.py?line=515'>516</a>\u001b[0m     n_jobs\u001b[39m=\u001b[39;49mn_jobs,\n\u001b[0;32m    <a href='file:///c%3A/Users/tripa/AppData/Local/Programs/Python/Python310/lib/site-packages/sklearn/model_selection/_validation.py?line=516'>517</a>\u001b[0m     verbose\u001b[39m=\u001b[39;49mverbose,\n\u001b[0;32m    <a href='file:///c%3A/Users/tripa/AppData/Local/Programs/Python/Python310/lib/site-packages/sklearn/model_selection/_validation.py?line=517'>518</a>\u001b[0m     fit_params\u001b[39m=\u001b[39;49mfit_params,\n\u001b[0;32m    <a href='file:///c%3A/Users/tripa/AppData/Local/Programs/Python/Python310/lib/site-packages/sklearn/model_selection/_validation.py?line=518'>519</a>\u001b[0m     pre_dispatch\u001b[39m=\u001b[39;49mpre_dispatch,\n\u001b[0;32m    <a href='file:///c%3A/Users/tripa/AppData/Local/Programs/Python/Python310/lib/site-packages/sklearn/model_selection/_validation.py?line=519'>520</a>\u001b[0m     error_score\u001b[39m=\u001b[39;49merror_score,\n\u001b[0;32m    <a href='file:///c%3A/Users/tripa/AppData/Local/Programs/Python/Python310/lib/site-packages/sklearn/model_selection/_validation.py?line=520'>521</a>\u001b[0m )\n\u001b[0;32m    <a href='file:///c%3A/Users/tripa/AppData/Local/Programs/Python/Python310/lib/site-packages/sklearn/model_selection/_validation.py?line=521'>522</a>\u001b[0m \u001b[39mreturn\u001b[39;00m cv_results[\u001b[39m\"\u001b[39m\u001b[39mtest_score\u001b[39m\u001b[39m\"\u001b[39m]\n",
      "File \u001b[1;32m~\\AppData\\Local\\Programs\\Python\\Python310\\lib\\site-packages\\sklearn\\model_selection\\_validation.py:267\u001b[0m, in \u001b[0;36mcross_validate\u001b[1;34m(estimator, X, y, groups, scoring, cv, n_jobs, verbose, fit_params, pre_dispatch, return_train_score, return_estimator, error_score)\u001b[0m\n\u001b[0;32m    <a href='file:///c%3A/Users/tripa/AppData/Local/Programs/Python/Python310/lib/site-packages/sklearn/model_selection/_validation.py?line=263'>264</a>\u001b[0m \u001b[39m# We clone the estimator to make sure that all the folds are\u001b[39;00m\n\u001b[0;32m    <a href='file:///c%3A/Users/tripa/AppData/Local/Programs/Python/Python310/lib/site-packages/sklearn/model_selection/_validation.py?line=264'>265</a>\u001b[0m \u001b[39m# independent, and that it is pickle-able.\u001b[39;00m\n\u001b[0;32m    <a href='file:///c%3A/Users/tripa/AppData/Local/Programs/Python/Python310/lib/site-packages/sklearn/model_selection/_validation.py?line=265'>266</a>\u001b[0m parallel \u001b[39m=\u001b[39m Parallel(n_jobs\u001b[39m=\u001b[39mn_jobs, verbose\u001b[39m=\u001b[39mverbose, pre_dispatch\u001b[39m=\u001b[39mpre_dispatch)\n\u001b[1;32m--> <a href='file:///c%3A/Users/tripa/AppData/Local/Programs/Python/Python310/lib/site-packages/sklearn/model_selection/_validation.py?line=266'>267</a>\u001b[0m results \u001b[39m=\u001b[39m parallel(\n\u001b[0;32m    <a href='file:///c%3A/Users/tripa/AppData/Local/Programs/Python/Python310/lib/site-packages/sklearn/model_selection/_validation.py?line=267'>268</a>\u001b[0m     delayed(_fit_and_score)(\n\u001b[0;32m    <a href='file:///c%3A/Users/tripa/AppData/Local/Programs/Python/Python310/lib/site-packages/sklearn/model_selection/_validation.py?line=268'>269</a>\u001b[0m         clone(estimator),\n\u001b[0;32m    <a href='file:///c%3A/Users/tripa/AppData/Local/Programs/Python/Python310/lib/site-packages/sklearn/model_selection/_validation.py?line=269'>270</a>\u001b[0m         X,\n\u001b[0;32m    <a href='file:///c%3A/Users/tripa/AppData/Local/Programs/Python/Python310/lib/site-packages/sklearn/model_selection/_validation.py?line=270'>271</a>\u001b[0m         y,\n\u001b[0;32m    <a href='file:///c%3A/Users/tripa/AppData/Local/Programs/Python/Python310/lib/site-packages/sklearn/model_selection/_validation.py?line=271'>272</a>\u001b[0m         scorers,\n\u001b[0;32m    <a href='file:///c%3A/Users/tripa/AppData/Local/Programs/Python/Python310/lib/site-packages/sklearn/model_selection/_validation.py?line=272'>273</a>\u001b[0m         train,\n\u001b[0;32m    <a href='file:///c%3A/Users/tripa/AppData/Local/Programs/Python/Python310/lib/site-packages/sklearn/model_selection/_validation.py?line=273'>274</a>\u001b[0m         test,\n\u001b[0;32m    <a href='file:///c%3A/Users/tripa/AppData/Local/Programs/Python/Python310/lib/site-packages/sklearn/model_selection/_validation.py?line=274'>275</a>\u001b[0m         verbose,\n\u001b[0;32m    <a href='file:///c%3A/Users/tripa/AppData/Local/Programs/Python/Python310/lib/site-packages/sklearn/model_selection/_validation.py?line=275'>276</a>\u001b[0m         \u001b[39mNone\u001b[39;49;00m,\n\u001b[0;32m    <a href='file:///c%3A/Users/tripa/AppData/Local/Programs/Python/Python310/lib/site-packages/sklearn/model_selection/_validation.py?line=276'>277</a>\u001b[0m         fit_params,\n\u001b[0;32m    <a href='file:///c%3A/Users/tripa/AppData/Local/Programs/Python/Python310/lib/site-packages/sklearn/model_selection/_validation.py?line=277'>278</a>\u001b[0m         return_train_score\u001b[39m=\u001b[39;49mreturn_train_score,\n\u001b[0;32m    <a href='file:///c%3A/Users/tripa/AppData/Local/Programs/Python/Python310/lib/site-packages/sklearn/model_selection/_validation.py?line=278'>279</a>\u001b[0m         return_times\u001b[39m=\u001b[39;49m\u001b[39mTrue\u001b[39;49;00m,\n\u001b[0;32m    <a href='file:///c%3A/Users/tripa/AppData/Local/Programs/Python/Python310/lib/site-packages/sklearn/model_selection/_validation.py?line=279'>280</a>\u001b[0m         return_estimator\u001b[39m=\u001b[39;49mreturn_estimator,\n\u001b[0;32m    <a href='file:///c%3A/Users/tripa/AppData/Local/Programs/Python/Python310/lib/site-packages/sklearn/model_selection/_validation.py?line=280'>281</a>\u001b[0m         error_score\u001b[39m=\u001b[39;49merror_score,\n\u001b[0;32m    <a href='file:///c%3A/Users/tripa/AppData/Local/Programs/Python/Python310/lib/site-packages/sklearn/model_selection/_validation.py?line=281'>282</a>\u001b[0m     )\n\u001b[0;32m    <a href='file:///c%3A/Users/tripa/AppData/Local/Programs/Python/Python310/lib/site-packages/sklearn/model_selection/_validation.py?line=282'>283</a>\u001b[0m     \u001b[39mfor\u001b[39;49;00m train, test \u001b[39min\u001b[39;49;00m cv\u001b[39m.\u001b[39;49msplit(X, y, groups)\n\u001b[0;32m    <a href='file:///c%3A/Users/tripa/AppData/Local/Programs/Python/Python310/lib/site-packages/sklearn/model_selection/_validation.py?line=283'>284</a>\u001b[0m )\n\u001b[0;32m    <a href='file:///c%3A/Users/tripa/AppData/Local/Programs/Python/Python310/lib/site-packages/sklearn/model_selection/_validation.py?line=285'>286</a>\u001b[0m _warn_about_fit_failures(results, error_score)\n\u001b[0;32m    <a href='file:///c%3A/Users/tripa/AppData/Local/Programs/Python/Python310/lib/site-packages/sklearn/model_selection/_validation.py?line=287'>288</a>\u001b[0m \u001b[39m# For callabe scoring, the return type is only know after calling. If the\u001b[39;00m\n\u001b[0;32m    <a href='file:///c%3A/Users/tripa/AppData/Local/Programs/Python/Python310/lib/site-packages/sklearn/model_selection/_validation.py?line=288'>289</a>\u001b[0m \u001b[39m# return type is a dictionary, the error scores can now be inserted with\u001b[39;00m\n\u001b[0;32m    <a href='file:///c%3A/Users/tripa/AppData/Local/Programs/Python/Python310/lib/site-packages/sklearn/model_selection/_validation.py?line=289'>290</a>\u001b[0m \u001b[39m# the correct key.\u001b[39;00m\n",
      "File \u001b[1;32m~\\AppData\\Local\\Programs\\Python\\Python310\\lib\\site-packages\\joblib\\parallel.py:1046\u001b[0m, in \u001b[0;36mParallel.__call__\u001b[1;34m(self, iterable)\u001b[0m\n\u001b[0;32m   <a href='file:///c%3A/Users/tripa/AppData/Local/Programs/Python/Python310/lib/site-packages/joblib/parallel.py?line=1042'>1043</a>\u001b[0m \u001b[39mif\u001b[39;00m \u001b[39mself\u001b[39m\u001b[39m.\u001b[39mdispatch_one_batch(iterator):\n\u001b[0;32m   <a href='file:///c%3A/Users/tripa/AppData/Local/Programs/Python/Python310/lib/site-packages/joblib/parallel.py?line=1043'>1044</a>\u001b[0m     \u001b[39mself\u001b[39m\u001b[39m.\u001b[39m_iterating \u001b[39m=\u001b[39m \u001b[39mself\u001b[39m\u001b[39m.\u001b[39m_original_iterator \u001b[39mis\u001b[39;00m \u001b[39mnot\u001b[39;00m \u001b[39mNone\u001b[39;00m\n\u001b[1;32m-> <a href='file:///c%3A/Users/tripa/AppData/Local/Programs/Python/Python310/lib/site-packages/joblib/parallel.py?line=1045'>1046</a>\u001b[0m \u001b[39mwhile\u001b[39;00m \u001b[39mself\u001b[39;49m\u001b[39m.\u001b[39;49mdispatch_one_batch(iterator):\n\u001b[0;32m   <a href='file:///c%3A/Users/tripa/AppData/Local/Programs/Python/Python310/lib/site-packages/joblib/parallel.py?line=1046'>1047</a>\u001b[0m     \u001b[39mpass\u001b[39;00m\n\u001b[0;32m   <a href='file:///c%3A/Users/tripa/AppData/Local/Programs/Python/Python310/lib/site-packages/joblib/parallel.py?line=1048'>1049</a>\u001b[0m \u001b[39mif\u001b[39;00m pre_dispatch \u001b[39m==\u001b[39m \u001b[39m\"\u001b[39m\u001b[39mall\u001b[39m\u001b[39m\"\u001b[39m \u001b[39mor\u001b[39;00m n_jobs \u001b[39m==\u001b[39m \u001b[39m1\u001b[39m:\n\u001b[0;32m   <a href='file:///c%3A/Users/tripa/AppData/Local/Programs/Python/Python310/lib/site-packages/joblib/parallel.py?line=1049'>1050</a>\u001b[0m     \u001b[39m# The iterable was consumed all at once by the above for loop.\u001b[39;00m\n\u001b[0;32m   <a href='file:///c%3A/Users/tripa/AppData/Local/Programs/Python/Python310/lib/site-packages/joblib/parallel.py?line=1050'>1051</a>\u001b[0m     \u001b[39m# No need to wait for async callbacks to trigger to\u001b[39;00m\n\u001b[0;32m   <a href='file:///c%3A/Users/tripa/AppData/Local/Programs/Python/Python310/lib/site-packages/joblib/parallel.py?line=1051'>1052</a>\u001b[0m     \u001b[39m# consumption.\u001b[39;00m\n",
      "File \u001b[1;32m~\\AppData\\Local\\Programs\\Python\\Python310\\lib\\site-packages\\joblib\\parallel.py:861\u001b[0m, in \u001b[0;36mParallel.dispatch_one_batch\u001b[1;34m(self, iterator)\u001b[0m\n\u001b[0;32m    <a href='file:///c%3A/Users/tripa/AppData/Local/Programs/Python/Python310/lib/site-packages/joblib/parallel.py?line=858'>859</a>\u001b[0m     \u001b[39mreturn\u001b[39;00m \u001b[39mFalse\u001b[39;00m\n\u001b[0;32m    <a href='file:///c%3A/Users/tripa/AppData/Local/Programs/Python/Python310/lib/site-packages/joblib/parallel.py?line=859'>860</a>\u001b[0m \u001b[39melse\u001b[39;00m:\n\u001b[1;32m--> <a href='file:///c%3A/Users/tripa/AppData/Local/Programs/Python/Python310/lib/site-packages/joblib/parallel.py?line=860'>861</a>\u001b[0m     \u001b[39mself\u001b[39;49m\u001b[39m.\u001b[39;49m_dispatch(tasks)\n\u001b[0;32m    <a href='file:///c%3A/Users/tripa/AppData/Local/Programs/Python/Python310/lib/site-packages/joblib/parallel.py?line=861'>862</a>\u001b[0m     \u001b[39mreturn\u001b[39;00m \u001b[39mTrue\u001b[39;00m\n",
      "File \u001b[1;32m~\\AppData\\Local\\Programs\\Python\\Python310\\lib\\site-packages\\joblib\\parallel.py:779\u001b[0m, in \u001b[0;36mParallel._dispatch\u001b[1;34m(self, batch)\u001b[0m\n\u001b[0;32m    <a href='file:///c%3A/Users/tripa/AppData/Local/Programs/Python/Python310/lib/site-packages/joblib/parallel.py?line=776'>777</a>\u001b[0m \u001b[39mwith\u001b[39;00m \u001b[39mself\u001b[39m\u001b[39m.\u001b[39m_lock:\n\u001b[0;32m    <a href='file:///c%3A/Users/tripa/AppData/Local/Programs/Python/Python310/lib/site-packages/joblib/parallel.py?line=777'>778</a>\u001b[0m     job_idx \u001b[39m=\u001b[39m \u001b[39mlen\u001b[39m(\u001b[39mself\u001b[39m\u001b[39m.\u001b[39m_jobs)\n\u001b[1;32m--> <a href='file:///c%3A/Users/tripa/AppData/Local/Programs/Python/Python310/lib/site-packages/joblib/parallel.py?line=778'>779</a>\u001b[0m     job \u001b[39m=\u001b[39m \u001b[39mself\u001b[39;49m\u001b[39m.\u001b[39;49m_backend\u001b[39m.\u001b[39;49mapply_async(batch, callback\u001b[39m=\u001b[39;49mcb)\n\u001b[0;32m    <a href='file:///c%3A/Users/tripa/AppData/Local/Programs/Python/Python310/lib/site-packages/joblib/parallel.py?line=779'>780</a>\u001b[0m     \u001b[39m# A job can complete so quickly than its callback is\u001b[39;00m\n\u001b[0;32m    <a href='file:///c%3A/Users/tripa/AppData/Local/Programs/Python/Python310/lib/site-packages/joblib/parallel.py?line=780'>781</a>\u001b[0m     \u001b[39m# called before we get here, causing self._jobs to\u001b[39;00m\n\u001b[0;32m    <a href='file:///c%3A/Users/tripa/AppData/Local/Programs/Python/Python310/lib/site-packages/joblib/parallel.py?line=781'>782</a>\u001b[0m     \u001b[39m# grow. To ensure correct results ordering, .insert is\u001b[39;00m\n\u001b[0;32m    <a href='file:///c%3A/Users/tripa/AppData/Local/Programs/Python/Python310/lib/site-packages/joblib/parallel.py?line=782'>783</a>\u001b[0m     \u001b[39m# used (rather than .append) in the following line\u001b[39;00m\n\u001b[0;32m    <a href='file:///c%3A/Users/tripa/AppData/Local/Programs/Python/Python310/lib/site-packages/joblib/parallel.py?line=783'>784</a>\u001b[0m     \u001b[39mself\u001b[39m\u001b[39m.\u001b[39m_jobs\u001b[39m.\u001b[39minsert(job_idx, job)\n",
      "File \u001b[1;32m~\\AppData\\Local\\Programs\\Python\\Python310\\lib\\site-packages\\joblib\\_parallel_backends.py:208\u001b[0m, in \u001b[0;36mSequentialBackend.apply_async\u001b[1;34m(self, func, callback)\u001b[0m\n\u001b[0;32m    <a href='file:///c%3A/Users/tripa/AppData/Local/Programs/Python/Python310/lib/site-packages/joblib/_parallel_backends.py?line=205'>206</a>\u001b[0m \u001b[39mdef\u001b[39;00m \u001b[39mapply_async\u001b[39m(\u001b[39mself\u001b[39m, func, callback\u001b[39m=\u001b[39m\u001b[39mNone\u001b[39;00m):\n\u001b[0;32m    <a href='file:///c%3A/Users/tripa/AppData/Local/Programs/Python/Python310/lib/site-packages/joblib/_parallel_backends.py?line=206'>207</a>\u001b[0m     \u001b[39m\"\"\"Schedule a func to be run\"\"\"\u001b[39;00m\n\u001b[1;32m--> <a href='file:///c%3A/Users/tripa/AppData/Local/Programs/Python/Python310/lib/site-packages/joblib/_parallel_backends.py?line=207'>208</a>\u001b[0m     result \u001b[39m=\u001b[39m ImmediateResult(func)\n\u001b[0;32m    <a href='file:///c%3A/Users/tripa/AppData/Local/Programs/Python/Python310/lib/site-packages/joblib/_parallel_backends.py?line=208'>209</a>\u001b[0m     \u001b[39mif\u001b[39;00m callback:\n\u001b[0;32m    <a href='file:///c%3A/Users/tripa/AppData/Local/Programs/Python/Python310/lib/site-packages/joblib/_parallel_backends.py?line=209'>210</a>\u001b[0m         callback(result)\n",
      "File \u001b[1;32m~\\AppData\\Local\\Programs\\Python\\Python310\\lib\\site-packages\\joblib\\_parallel_backends.py:572\u001b[0m, in \u001b[0;36mImmediateResult.__init__\u001b[1;34m(self, batch)\u001b[0m\n\u001b[0;32m    <a href='file:///c%3A/Users/tripa/AppData/Local/Programs/Python/Python310/lib/site-packages/joblib/_parallel_backends.py?line=568'>569</a>\u001b[0m \u001b[39mdef\u001b[39;00m \u001b[39m__init__\u001b[39m(\u001b[39mself\u001b[39m, batch):\n\u001b[0;32m    <a href='file:///c%3A/Users/tripa/AppData/Local/Programs/Python/Python310/lib/site-packages/joblib/_parallel_backends.py?line=569'>570</a>\u001b[0m     \u001b[39m# Don't delay the application, to avoid keeping the input\u001b[39;00m\n\u001b[0;32m    <a href='file:///c%3A/Users/tripa/AppData/Local/Programs/Python/Python310/lib/site-packages/joblib/_parallel_backends.py?line=570'>571</a>\u001b[0m     \u001b[39m# arguments in memory\u001b[39;00m\n\u001b[1;32m--> <a href='file:///c%3A/Users/tripa/AppData/Local/Programs/Python/Python310/lib/site-packages/joblib/_parallel_backends.py?line=571'>572</a>\u001b[0m     \u001b[39mself\u001b[39m\u001b[39m.\u001b[39mresults \u001b[39m=\u001b[39m batch()\n",
      "File \u001b[1;32m~\\AppData\\Local\\Programs\\Python\\Python310\\lib\\site-packages\\joblib\\parallel.py:262\u001b[0m, in \u001b[0;36mBatchedCalls.__call__\u001b[1;34m(self)\u001b[0m\n\u001b[0;32m    <a href='file:///c%3A/Users/tripa/AppData/Local/Programs/Python/Python310/lib/site-packages/joblib/parallel.py?line=257'>258</a>\u001b[0m \u001b[39mdef\u001b[39;00m \u001b[39m__call__\u001b[39m(\u001b[39mself\u001b[39m):\n\u001b[0;32m    <a href='file:///c%3A/Users/tripa/AppData/Local/Programs/Python/Python310/lib/site-packages/joblib/parallel.py?line=258'>259</a>\u001b[0m     \u001b[39m# Set the default nested backend to self._backend but do not set the\u001b[39;00m\n\u001b[0;32m    <a href='file:///c%3A/Users/tripa/AppData/Local/Programs/Python/Python310/lib/site-packages/joblib/parallel.py?line=259'>260</a>\u001b[0m     \u001b[39m# change the default number of processes to -1\u001b[39;00m\n\u001b[0;32m    <a href='file:///c%3A/Users/tripa/AppData/Local/Programs/Python/Python310/lib/site-packages/joblib/parallel.py?line=260'>261</a>\u001b[0m     \u001b[39mwith\u001b[39;00m parallel_backend(\u001b[39mself\u001b[39m\u001b[39m.\u001b[39m_backend, n_jobs\u001b[39m=\u001b[39m\u001b[39mself\u001b[39m\u001b[39m.\u001b[39m_n_jobs):\n\u001b[1;32m--> <a href='file:///c%3A/Users/tripa/AppData/Local/Programs/Python/Python310/lib/site-packages/joblib/parallel.py?line=261'>262</a>\u001b[0m         \u001b[39mreturn\u001b[39;00m [func(\u001b[39m*\u001b[39margs, \u001b[39m*\u001b[39m\u001b[39m*\u001b[39mkwargs)\n\u001b[0;32m    <a href='file:///c%3A/Users/tripa/AppData/Local/Programs/Python/Python310/lib/site-packages/joblib/parallel.py?line=262'>263</a>\u001b[0m                 \u001b[39mfor\u001b[39;00m func, args, kwargs \u001b[39min\u001b[39;00m \u001b[39mself\u001b[39m\u001b[39m.\u001b[39mitems]\n",
      "File \u001b[1;32m~\\AppData\\Local\\Programs\\Python\\Python310\\lib\\site-packages\\joblib\\parallel.py:262\u001b[0m, in \u001b[0;36m<listcomp>\u001b[1;34m(.0)\u001b[0m\n\u001b[0;32m    <a href='file:///c%3A/Users/tripa/AppData/Local/Programs/Python/Python310/lib/site-packages/joblib/parallel.py?line=257'>258</a>\u001b[0m \u001b[39mdef\u001b[39;00m \u001b[39m__call__\u001b[39m(\u001b[39mself\u001b[39m):\n\u001b[0;32m    <a href='file:///c%3A/Users/tripa/AppData/Local/Programs/Python/Python310/lib/site-packages/joblib/parallel.py?line=258'>259</a>\u001b[0m     \u001b[39m# Set the default nested backend to self._backend but do not set the\u001b[39;00m\n\u001b[0;32m    <a href='file:///c%3A/Users/tripa/AppData/Local/Programs/Python/Python310/lib/site-packages/joblib/parallel.py?line=259'>260</a>\u001b[0m     \u001b[39m# change the default number of processes to -1\u001b[39;00m\n\u001b[0;32m    <a href='file:///c%3A/Users/tripa/AppData/Local/Programs/Python/Python310/lib/site-packages/joblib/parallel.py?line=260'>261</a>\u001b[0m     \u001b[39mwith\u001b[39;00m parallel_backend(\u001b[39mself\u001b[39m\u001b[39m.\u001b[39m_backend, n_jobs\u001b[39m=\u001b[39m\u001b[39mself\u001b[39m\u001b[39m.\u001b[39m_n_jobs):\n\u001b[1;32m--> <a href='file:///c%3A/Users/tripa/AppData/Local/Programs/Python/Python310/lib/site-packages/joblib/parallel.py?line=261'>262</a>\u001b[0m         \u001b[39mreturn\u001b[39;00m [func(\u001b[39m*\u001b[39margs, \u001b[39m*\u001b[39m\u001b[39m*\u001b[39mkwargs)\n\u001b[0;32m    <a href='file:///c%3A/Users/tripa/AppData/Local/Programs/Python/Python310/lib/site-packages/joblib/parallel.py?line=262'>263</a>\u001b[0m                 \u001b[39mfor\u001b[39;00m func, args, kwargs \u001b[39min\u001b[39;00m \u001b[39mself\u001b[39m\u001b[39m.\u001b[39mitems]\n",
      "File \u001b[1;32m~\\AppData\\Local\\Programs\\Python\\Python310\\lib\\site-packages\\sklearn\\utils\\fixes.py:216\u001b[0m, in \u001b[0;36m_FuncWrapper.__call__\u001b[1;34m(self, *args, **kwargs)\u001b[0m\n\u001b[0;32m    <a href='file:///c%3A/Users/tripa/AppData/Local/Programs/Python/Python310/lib/site-packages/sklearn/utils/fixes.py?line=213'>214</a>\u001b[0m \u001b[39mdef\u001b[39;00m \u001b[39m__call__\u001b[39m(\u001b[39mself\u001b[39m, \u001b[39m*\u001b[39margs, \u001b[39m*\u001b[39m\u001b[39m*\u001b[39mkwargs):\n\u001b[0;32m    <a href='file:///c%3A/Users/tripa/AppData/Local/Programs/Python/Python310/lib/site-packages/sklearn/utils/fixes.py?line=214'>215</a>\u001b[0m     \u001b[39mwith\u001b[39;00m config_context(\u001b[39m*\u001b[39m\u001b[39m*\u001b[39m\u001b[39mself\u001b[39m\u001b[39m.\u001b[39mconfig):\n\u001b[1;32m--> <a href='file:///c%3A/Users/tripa/AppData/Local/Programs/Python/Python310/lib/site-packages/sklearn/utils/fixes.py?line=215'>216</a>\u001b[0m         \u001b[39mreturn\u001b[39;00m \u001b[39mself\u001b[39m\u001b[39m.\u001b[39mfunction(\u001b[39m*\u001b[39margs, \u001b[39m*\u001b[39m\u001b[39m*\u001b[39mkwargs)\n",
      "File \u001b[1;32m~\\AppData\\Local\\Programs\\Python\\Python310\\lib\\site-packages\\sklearn\\model_selection\\_validation.py:702\u001b[0m, in \u001b[0;36m_fit_and_score\u001b[1;34m(estimator, X, y, scorer, train, test, verbose, parameters, fit_params, return_train_score, return_parameters, return_n_test_samples, return_times, return_estimator, split_progress, candidate_progress, error_score)\u001b[0m\n\u001b[0;32m    <a href='file:///c%3A/Users/tripa/AppData/Local/Programs/Python/Python310/lib/site-packages/sklearn/model_selection/_validation.py?line=698'>699</a>\u001b[0m result[\u001b[39m\"\u001b[39m\u001b[39mfit_error\u001b[39m\u001b[39m\"\u001b[39m] \u001b[39m=\u001b[39m \u001b[39mNone\u001b[39;00m\n\u001b[0;32m    <a href='file:///c%3A/Users/tripa/AppData/Local/Programs/Python/Python310/lib/site-packages/sklearn/model_selection/_validation.py?line=700'>701</a>\u001b[0m fit_time \u001b[39m=\u001b[39m time\u001b[39m.\u001b[39mtime() \u001b[39m-\u001b[39m start_time\n\u001b[1;32m--> <a href='file:///c%3A/Users/tripa/AppData/Local/Programs/Python/Python310/lib/site-packages/sklearn/model_selection/_validation.py?line=701'>702</a>\u001b[0m test_scores \u001b[39m=\u001b[39m _score(estimator, X_test, y_test, scorer, error_score)\n\u001b[0;32m    <a href='file:///c%3A/Users/tripa/AppData/Local/Programs/Python/Python310/lib/site-packages/sklearn/model_selection/_validation.py?line=702'>703</a>\u001b[0m score_time \u001b[39m=\u001b[39m time\u001b[39m.\u001b[39mtime() \u001b[39m-\u001b[39m start_time \u001b[39m-\u001b[39m fit_time\n\u001b[0;32m    <a href='file:///c%3A/Users/tripa/AppData/Local/Programs/Python/Python310/lib/site-packages/sklearn/model_selection/_validation.py?line=703'>704</a>\u001b[0m \u001b[39mif\u001b[39;00m return_train_score:\n",
      "File \u001b[1;32m~\\AppData\\Local\\Programs\\Python\\Python310\\lib\\site-packages\\sklearn\\model_selection\\_validation.py:761\u001b[0m, in \u001b[0;36m_score\u001b[1;34m(estimator, X_test, y_test, scorer, error_score)\u001b[0m\n\u001b[0;32m    <a href='file:///c%3A/Users/tripa/AppData/Local/Programs/Python/Python310/lib/site-packages/sklearn/model_selection/_validation.py?line=758'>759</a>\u001b[0m         scores \u001b[39m=\u001b[39m scorer(estimator, X_test)\n\u001b[0;32m    <a href='file:///c%3A/Users/tripa/AppData/Local/Programs/Python/Python310/lib/site-packages/sklearn/model_selection/_validation.py?line=759'>760</a>\u001b[0m     \u001b[39melse\u001b[39;00m:\n\u001b[1;32m--> <a href='file:///c%3A/Users/tripa/AppData/Local/Programs/Python/Python310/lib/site-packages/sklearn/model_selection/_validation.py?line=760'>761</a>\u001b[0m         scores \u001b[39m=\u001b[39m scorer(estimator, X_test, y_test)\n\u001b[0;32m    <a href='file:///c%3A/Users/tripa/AppData/Local/Programs/Python/Python310/lib/site-packages/sklearn/model_selection/_validation.py?line=761'>762</a>\u001b[0m \u001b[39mexcept\u001b[39;00m \u001b[39mException\u001b[39;00m:\n\u001b[0;32m    <a href='file:///c%3A/Users/tripa/AppData/Local/Programs/Python/Python310/lib/site-packages/sklearn/model_selection/_validation.py?line=762'>763</a>\u001b[0m     \u001b[39mif\u001b[39;00m error_score \u001b[39m==\u001b[39m \u001b[39m\"\u001b[39m\u001b[39mraise\u001b[39m\u001b[39m\"\u001b[39m:\n",
      "File \u001b[1;32m~\\AppData\\Local\\Programs\\Python\\Python310\\lib\\site-packages\\sklearn\\metrics\\_scorer.py:105\u001b[0m, in \u001b[0;36m_MultimetricScorer.__call__\u001b[1;34m(self, estimator, *args, **kwargs)\u001b[0m\n\u001b[0;32m    <a href='file:///c%3A/Users/tripa/AppData/Local/Programs/Python/Python310/lib/site-packages/sklearn/metrics/_scorer.py?line=102'>103</a>\u001b[0m         score \u001b[39m=\u001b[39m scorer\u001b[39m.\u001b[39m_score(cached_call, estimator, \u001b[39m*\u001b[39margs, \u001b[39m*\u001b[39m\u001b[39m*\u001b[39mkwargs)\n\u001b[0;32m    <a href='file:///c%3A/Users/tripa/AppData/Local/Programs/Python/Python310/lib/site-packages/sklearn/metrics/_scorer.py?line=103'>104</a>\u001b[0m     \u001b[39melse\u001b[39;00m:\n\u001b[1;32m--> <a href='file:///c%3A/Users/tripa/AppData/Local/Programs/Python/Python310/lib/site-packages/sklearn/metrics/_scorer.py?line=104'>105</a>\u001b[0m         score \u001b[39m=\u001b[39m scorer(estimator, \u001b[39m*\u001b[39margs, \u001b[39m*\u001b[39m\u001b[39m*\u001b[39mkwargs)\n\u001b[0;32m    <a href='file:///c%3A/Users/tripa/AppData/Local/Programs/Python/Python310/lib/site-packages/sklearn/metrics/_scorer.py?line=105'>106</a>\u001b[0m     scores[name] \u001b[39m=\u001b[39m score\n\u001b[0;32m    <a href='file:///c%3A/Users/tripa/AppData/Local/Programs/Python/Python310/lib/site-packages/sklearn/metrics/_scorer.py?line=106'>107</a>\u001b[0m \u001b[39mreturn\u001b[39;00m scores\n",
      "File \u001b[1;32m~\\AppData\\Local\\Programs\\Python\\Python310\\lib\\site-packages\\sklearn\\metrics\\_scorer.py:418\u001b[0m, in \u001b[0;36m_passthrough_scorer\u001b[1;34m(estimator, *args, **kwargs)\u001b[0m\n\u001b[0;32m    <a href='file:///c%3A/Users/tripa/AppData/Local/Programs/Python/Python310/lib/site-packages/sklearn/metrics/_scorer.py?line=415'>416</a>\u001b[0m \u001b[39mdef\u001b[39;00m \u001b[39m_passthrough_scorer\u001b[39m(estimator, \u001b[39m*\u001b[39margs, \u001b[39m*\u001b[39m\u001b[39m*\u001b[39mkwargs):\n\u001b[0;32m    <a href='file:///c%3A/Users/tripa/AppData/Local/Programs/Python/Python310/lib/site-packages/sklearn/metrics/_scorer.py?line=416'>417</a>\u001b[0m     \u001b[39m\"\"\"Function that wraps estimator.score\"\"\"\u001b[39;00m\n\u001b[1;32m--> <a href='file:///c%3A/Users/tripa/AppData/Local/Programs/Python/Python310/lib/site-packages/sklearn/metrics/_scorer.py?line=417'>418</a>\u001b[0m     \u001b[39mreturn\u001b[39;00m estimator\u001b[39m.\u001b[39mscore(\u001b[39m*\u001b[39margs, \u001b[39m*\u001b[39m\u001b[39m*\u001b[39mkwargs)\n",
      "File \u001b[1;32m~\\AppData\\Local\\Programs\\Python\\Python310\\lib\\site-packages\\sklearn\\base.py:651\u001b[0m, in \u001b[0;36mClassifierMixin.score\u001b[1;34m(self, X, y, sample_weight)\u001b[0m\n\u001b[0;32m    <a href='file:///c%3A/Users/tripa/AppData/Local/Programs/Python/Python310/lib/site-packages/sklearn/base.py?line=625'>626</a>\u001b[0m \u001b[39m\"\"\"\u001b[39;00m\n\u001b[0;32m    <a href='file:///c%3A/Users/tripa/AppData/Local/Programs/Python/Python310/lib/site-packages/sklearn/base.py?line=626'>627</a>\u001b[0m \u001b[39mReturn the mean accuracy on the given test data and labels.\u001b[39;00m\n\u001b[0;32m    <a href='file:///c%3A/Users/tripa/AppData/Local/Programs/Python/Python310/lib/site-packages/sklearn/base.py?line=627'>628</a>\u001b[0m \n\u001b[1;32m   (...)\u001b[0m\n\u001b[0;32m    <a href='file:///c%3A/Users/tripa/AppData/Local/Programs/Python/Python310/lib/site-packages/sklearn/base.py?line=646'>647</a>\u001b[0m \u001b[39m    Mean accuracy of ``self.predict(X)`` wrt. `y`.\u001b[39;00m\n\u001b[0;32m    <a href='file:///c%3A/Users/tripa/AppData/Local/Programs/Python/Python310/lib/site-packages/sklearn/base.py?line=647'>648</a>\u001b[0m \u001b[39m\"\"\"\u001b[39;00m\n\u001b[0;32m    <a href='file:///c%3A/Users/tripa/AppData/Local/Programs/Python/Python310/lib/site-packages/sklearn/base.py?line=648'>649</a>\u001b[0m \u001b[39mfrom\u001b[39;00m \u001b[39m.\u001b[39;00m\u001b[39mmetrics\u001b[39;00m \u001b[39mimport\u001b[39;00m accuracy_score\n\u001b[1;32m--> <a href='file:///c%3A/Users/tripa/AppData/Local/Programs/Python/Python310/lib/site-packages/sklearn/base.py?line=650'>651</a>\u001b[0m \u001b[39mreturn\u001b[39;00m accuracy_score(y, \u001b[39mself\u001b[39;49m\u001b[39m.\u001b[39;49mpredict(X), sample_weight\u001b[39m=\u001b[39msample_weight)\n",
      "File \u001b[1;32m~\\AppData\\Local\\Programs\\Python\\Python310\\lib\\site-packages\\sklearn\\neighbors\\_classification.py:214\u001b[0m, in \u001b[0;36mKNeighborsClassifier.predict\u001b[1;34m(self, X)\u001b[0m\n\u001b[0;32m    <a href='file:///c%3A/Users/tripa/AppData/Local/Programs/Python/Python310/lib/site-packages/sklearn/neighbors/_classification.py?line=199'>200</a>\u001b[0m \u001b[39mdef\u001b[39;00m \u001b[39mpredict\u001b[39m(\u001b[39mself\u001b[39m, X):\n\u001b[0;32m    <a href='file:///c%3A/Users/tripa/AppData/Local/Programs/Python/Python310/lib/site-packages/sklearn/neighbors/_classification.py?line=200'>201</a>\u001b[0m     \u001b[39m\"\"\"Predict the class labels for the provided data.\u001b[39;00m\n\u001b[0;32m    <a href='file:///c%3A/Users/tripa/AppData/Local/Programs/Python/Python310/lib/site-packages/sklearn/neighbors/_classification.py?line=201'>202</a>\u001b[0m \n\u001b[0;32m    <a href='file:///c%3A/Users/tripa/AppData/Local/Programs/Python/Python310/lib/site-packages/sklearn/neighbors/_classification.py?line=202'>203</a>\u001b[0m \u001b[39m    Parameters\u001b[39;00m\n\u001b[1;32m   (...)\u001b[0m\n\u001b[0;32m    <a href='file:///c%3A/Users/tripa/AppData/Local/Programs/Python/Python310/lib/site-packages/sklearn/neighbors/_classification.py?line=211'>212</a>\u001b[0m \u001b[39m        Class labels for each data sample.\u001b[39;00m\n\u001b[0;32m    <a href='file:///c%3A/Users/tripa/AppData/Local/Programs/Python/Python310/lib/site-packages/sklearn/neighbors/_classification.py?line=212'>213</a>\u001b[0m \u001b[39m    \"\"\"\u001b[39;00m\n\u001b[1;32m--> <a href='file:///c%3A/Users/tripa/AppData/Local/Programs/Python/Python310/lib/site-packages/sklearn/neighbors/_classification.py?line=213'>214</a>\u001b[0m     neigh_dist, neigh_ind \u001b[39m=\u001b[39m \u001b[39mself\u001b[39;49m\u001b[39m.\u001b[39;49mkneighbors(X)\n\u001b[0;32m    <a href='file:///c%3A/Users/tripa/AppData/Local/Programs/Python/Python310/lib/site-packages/sklearn/neighbors/_classification.py?line=214'>215</a>\u001b[0m     classes_ \u001b[39m=\u001b[39m \u001b[39mself\u001b[39m\u001b[39m.\u001b[39mclasses_\n\u001b[0;32m    <a href='file:///c%3A/Users/tripa/AppData/Local/Programs/Python/Python310/lib/site-packages/sklearn/neighbors/_classification.py?line=215'>216</a>\u001b[0m     _y \u001b[39m=\u001b[39m \u001b[39mself\u001b[39m\u001b[39m.\u001b[39m_y\n",
      "File \u001b[1;32m~\\AppData\\Local\\Programs\\Python\\Python310\\lib\\site-packages\\sklearn\\neighbors\\_base.py:752\u001b[0m, in \u001b[0;36mKNeighborsMixin.kneighbors\u001b[1;34m(self, X, n_neighbors, return_distance)\u001b[0m\n\u001b[0;32m    <a href='file:///c%3A/Users/tripa/AppData/Local/Programs/Python/Python310/lib/site-packages/sklearn/neighbors/_base.py?line=748'>749</a>\u001b[0m     \u001b[39melse\u001b[39;00m:\n\u001b[0;32m    <a href='file:///c%3A/Users/tripa/AppData/Local/Programs/Python/Python310/lib/site-packages/sklearn/neighbors/_base.py?line=749'>750</a>\u001b[0m         kwds \u001b[39m=\u001b[39m \u001b[39mself\u001b[39m\u001b[39m.\u001b[39meffective_metric_params_\n\u001b[1;32m--> <a href='file:///c%3A/Users/tripa/AppData/Local/Programs/Python/Python310/lib/site-packages/sklearn/neighbors/_base.py?line=751'>752</a>\u001b[0m     chunked_results \u001b[39m=\u001b[39m \u001b[39mlist\u001b[39;49m(\n\u001b[0;32m    <a href='file:///c%3A/Users/tripa/AppData/Local/Programs/Python/Python310/lib/site-packages/sklearn/neighbors/_base.py?line=752'>753</a>\u001b[0m         pairwise_distances_chunked(\n\u001b[0;32m    <a href='file:///c%3A/Users/tripa/AppData/Local/Programs/Python/Python310/lib/site-packages/sklearn/neighbors/_base.py?line=753'>754</a>\u001b[0m             X,\n\u001b[0;32m    <a href='file:///c%3A/Users/tripa/AppData/Local/Programs/Python/Python310/lib/site-packages/sklearn/neighbors/_base.py?line=754'>755</a>\u001b[0m             \u001b[39mself\u001b[39;49m\u001b[39m.\u001b[39;49m_fit_X,\n\u001b[0;32m    <a href='file:///c%3A/Users/tripa/AppData/Local/Programs/Python/Python310/lib/site-packages/sklearn/neighbors/_base.py?line=755'>756</a>\u001b[0m             reduce_func\u001b[39m=\u001b[39;49mreduce_func,\n\u001b[0;32m    <a href='file:///c%3A/Users/tripa/AppData/Local/Programs/Python/Python310/lib/site-packages/sklearn/neighbors/_base.py?line=756'>757</a>\u001b[0m             metric\u001b[39m=\u001b[39;49m\u001b[39mself\u001b[39;49m\u001b[39m.\u001b[39;49meffective_metric_,\n\u001b[0;32m    <a href='file:///c%3A/Users/tripa/AppData/Local/Programs/Python/Python310/lib/site-packages/sklearn/neighbors/_base.py?line=757'>758</a>\u001b[0m             n_jobs\u001b[39m=\u001b[39;49mn_jobs,\n\u001b[0;32m    <a href='file:///c%3A/Users/tripa/AppData/Local/Programs/Python/Python310/lib/site-packages/sklearn/neighbors/_base.py?line=758'>759</a>\u001b[0m             \u001b[39m*\u001b[39;49m\u001b[39m*\u001b[39;49mkwds,\n\u001b[0;32m    <a href='file:///c%3A/Users/tripa/AppData/Local/Programs/Python/Python310/lib/site-packages/sklearn/neighbors/_base.py?line=759'>760</a>\u001b[0m         )\n\u001b[0;32m    <a href='file:///c%3A/Users/tripa/AppData/Local/Programs/Python/Python310/lib/site-packages/sklearn/neighbors/_base.py?line=760'>761</a>\u001b[0m     )\n\u001b[0;32m    <a href='file:///c%3A/Users/tripa/AppData/Local/Programs/Python/Python310/lib/site-packages/sklearn/neighbors/_base.py?line=762'>763</a>\u001b[0m \u001b[39melif\u001b[39;00m \u001b[39mself\u001b[39m\u001b[39m.\u001b[39m_fit_method \u001b[39min\u001b[39;00m [\u001b[39m\"\u001b[39m\u001b[39mball_tree\u001b[39m\u001b[39m\"\u001b[39m, \u001b[39m\"\u001b[39m\u001b[39mkd_tree\u001b[39m\u001b[39m\"\u001b[39m]:\n\u001b[0;32m    <a href='file:///c%3A/Users/tripa/AppData/Local/Programs/Python/Python310/lib/site-packages/sklearn/neighbors/_base.py?line=763'>764</a>\u001b[0m     \u001b[39mif\u001b[39;00m issparse(X):\n",
      "File \u001b[1;32m~\\AppData\\Local\\Programs\\Python\\Python310\\lib\\site-packages\\sklearn\\metrics\\pairwise.py:1726\u001b[0m, in \u001b[0;36mpairwise_distances_chunked\u001b[1;34m(X, Y, reduce_func, metric, n_jobs, working_memory, **kwds)\u001b[0m\n\u001b[0;32m   <a href='file:///c%3A/Users/tripa/AppData/Local/Programs/Python/Python310/lib/site-packages/sklearn/metrics/pairwise.py?line=1723'>1724</a>\u001b[0m \u001b[39mif\u001b[39;00m reduce_func \u001b[39mis\u001b[39;00m \u001b[39mnot\u001b[39;00m \u001b[39mNone\u001b[39;00m:\n\u001b[0;32m   <a href='file:///c%3A/Users/tripa/AppData/Local/Programs/Python/Python310/lib/site-packages/sklearn/metrics/pairwise.py?line=1724'>1725</a>\u001b[0m     chunk_size \u001b[39m=\u001b[39m D_chunk\u001b[39m.\u001b[39mshape[\u001b[39m0\u001b[39m]\n\u001b[1;32m-> <a href='file:///c%3A/Users/tripa/AppData/Local/Programs/Python/Python310/lib/site-packages/sklearn/metrics/pairwise.py?line=1725'>1726</a>\u001b[0m     D_chunk \u001b[39m=\u001b[39m reduce_func(D_chunk, sl\u001b[39m.\u001b[39;49mstart)\n\u001b[0;32m   <a href='file:///c%3A/Users/tripa/AppData/Local/Programs/Python/Python310/lib/site-packages/sklearn/metrics/pairwise.py?line=1726'>1727</a>\u001b[0m     _check_chunk_size(D_chunk, chunk_size)\n\u001b[0;32m   <a href='file:///c%3A/Users/tripa/AppData/Local/Programs/Python/Python310/lib/site-packages/sklearn/metrics/pairwise.py?line=1727'>1728</a>\u001b[0m \u001b[39myield\u001b[39;00m D_chunk\n",
      "File \u001b[1;32m~\\AppData\\Local\\Programs\\Python\\Python310\\lib\\site-packages\\sklearn\\neighbors\\_base.py:640\u001b[0m, in \u001b[0;36mKNeighborsMixin._kneighbors_reduce_func\u001b[1;34m(self, dist, start, n_neighbors, return_distance)\u001b[0m\n\u001b[0;32m    <a href='file:///c%3A/Users/tripa/AppData/Local/Programs/Python/Python310/lib/site-packages/sklearn/neighbors/_base.py?line=637'>638</a>\u001b[0m \u001b[39mif\u001b[39;00m return_distance:\n\u001b[0;32m    <a href='file:///c%3A/Users/tripa/AppData/Local/Programs/Python/Python310/lib/site-packages/sklearn/neighbors/_base.py?line=638'>639</a>\u001b[0m     \u001b[39mif\u001b[39;00m \u001b[39mself\u001b[39m\u001b[39m.\u001b[39meffective_metric_ \u001b[39m==\u001b[39m \u001b[39m\"\u001b[39m\u001b[39meuclidean\u001b[39m\u001b[39m\"\u001b[39m:\n\u001b[1;32m--> <a href='file:///c%3A/Users/tripa/AppData/Local/Programs/Python/Python310/lib/site-packages/sklearn/neighbors/_base.py?line=639'>640</a>\u001b[0m         result \u001b[39m=\u001b[39m np\u001b[39m.\u001b[39;49msqrt(dist[sample_range, neigh_ind]), neigh_ind\n\u001b[0;32m    <a href='file:///c%3A/Users/tripa/AppData/Local/Programs/Python/Python310/lib/site-packages/sklearn/neighbors/_base.py?line=640'>641</a>\u001b[0m     \u001b[39melse\u001b[39;00m:\n\u001b[0;32m    <a href='file:///c%3A/Users/tripa/AppData/Local/Programs/Python/Python310/lib/site-packages/sklearn/neighbors/_base.py?line=641'>642</a>\u001b[0m         result \u001b[39m=\u001b[39m dist[sample_range, neigh_ind], neigh_ind\n",
      "\u001b[1;31mKeyboardInterrupt\u001b[0m: "
     ]
    }
   ],
   "source": [
    "model2 = KNeighborsClassifier(n_neighbors=5)\n",
    "cv2_results = cross_val_score(model2,intensityTrainData, label.values.ravel(), cv=shuffle)"
   ]
  },
  {
   "cell_type": "code",
   "execution_count": 103,
   "metadata": {},
   "outputs": [
    {
     "name": "stdout",
     "output_type": "stream",
     "text": [
      "Ranfom Forest Classifier\n",
      "10-Fold Cross Validation Results are: [0.98468024 0.98574268 0.98378916 0.98444033 0.98279526 0.98461169\n",
      " 0.98526287 0.98365207 0.98289807 0.98464597]\n",
      "Mean: 0.9842518335732402\n",
      "STD: 0.0009097691546776147\n"
     ]
    }
   ],
   "source": [
    "print(\"Ranfom Forest Classifier\")\n",
    "print(\"10-Fold Cross Validation Results are: \" + str(cv1_results))\n",
    "print(\"Mean: \" + str(cv1_results.mean()))\n",
    "print(\"STD: \" + str(cv1_results.std()))"
   ]
  },
  {
   "cell_type": "code",
   "execution_count": null,
   "metadata": {},
   "outputs": [
    {
     "name": "stdout",
     "output_type": "stream",
     "text": [
      "K Nearest Neighbor Classifier\n",
      "10-Fold Cross Validation Results are: [0.9710741  0.96891494 0.96960038 0.96829803 0.96819522 0.9703201\n",
      " 0.96798958 0.96946329 0.97182809 0.97028583]\n",
      "Mean: 0.9695969566111453\n",
      "STD: 0.0012196784838287744\n"
     ]
    }
   ],
   "source": [
    "print(\"K Nearest Neighbor Classifier\")\n",
    "print(\"10-Fold Cross Validation Results are: \" + str(cv2_results))\n",
    "print(\"Mean: \" + str(cv2_results.mean()))\n",
    "print(\"STD: \" + str(cv2_results.std()))"
   ]
  },
  {
   "cell_type": "markdown",
   "metadata": {
    "nbgrader": {
     "grade": false,
     "grade_id": "cell-e4ad8339fe1b7cbd",
     "locked": true,
     "schema_version": 1,
     "solution": false
    }
   },
   "source": [
    "***\n",
    "### Task 4: Validation of predicted values \n",
    "\n",
    "Based on the results from Task 3, chose the best classifier. Using sklearn __train_test_split__, split the data into 2 sets: the _training_ set and the _test_ set. It is common to use 80% of the data for training and 20% for testing. Train the classifier on the _training_ set and use it to predict the _test_ set. Measure & visualise the perfomance of your classifier using the confusion matrix, the classification report and the ROC curve.\n",
    "__Hint__: Transform the Healthy/Lesion parameters into binary in order to create the ROC curve"
   ]
  },
  {
   "cell_type": "code",
   "execution_count": 140,
   "metadata": {
    "collapsed": true
   },
   "outputs": [],
   "source": [
    "### Code for Task 4\n",
    "from sklearn.model_selection import train_test_split\n",
    "from sklearn.metrics import classification_report,confusion_matrix,roc_curve,auc\n",
    "\n",
    "\n",
    "X_train, X_test, y_train, y_test = train_test_split(intensityTrainData, label1, test_size=0.8, random_state=42)"
   ]
  },
  {
   "cell_type": "code",
   "execution_count": 141,
   "metadata": {},
   "outputs": [
    {
     "data": {
      "text/plain": [
       "RandomForestClassifier(n_estimators=20)"
      ]
     },
     "execution_count": 141,
     "metadata": {},
     "output_type": "execute_result"
    }
   ],
   "source": [
    "model1.fit(X_train,y_train)"
   ]
  },
  {
   "cell_type": "code",
   "execution_count": 142,
   "metadata": {},
   "outputs": [],
   "source": [
    "predictions = model1.predict(X_test)"
   ]
  },
  {
   "cell_type": "code",
   "execution_count": 143,
   "metadata": {},
   "outputs": [
    {
     "name": "stdout",
     "output_type": "stream",
     "text": [
      "[[112948   2497]\n",
      " [  3598 114378]]\n"
     ]
    }
   ],
   "source": [
    "print(confusion_matrix(predictions,y_test))"
   ]
  },
  {
   "cell_type": "code",
   "execution_count": 144,
   "metadata": {},
   "outputs": [
    {
     "name": "stdout",
     "output_type": "stream",
     "text": [
      "              precision    recall  f1-score   support\n",
      "\n",
      "           0       0.97      0.98      0.97    115445\n",
      "           1       0.98      0.97      0.97    117976\n",
      "\n",
      "    accuracy                           0.97    233421\n",
      "   macro avg       0.97      0.97      0.97    233421\n",
      "weighted avg       0.97      0.97      0.97    233421\n",
      "\n"
     ]
    }
   ],
   "source": [
    "print(classification_report(predictions,y_test))"
   ]
  },
  {
   "cell_type": "code",
   "execution_count": 145,
   "metadata": {},
   "outputs": [
    {
     "name": "stdout",
     "output_type": "stream",
     "text": [
      "        class\n",
      "246792      1\n",
      "222736      1\n",
      "255394      0\n",
      "167471      0\n",
      "6491        0\n",
      "...       ...\n",
      "129285      1\n",
      "30152       0\n",
      "80925       0\n",
      "104608      0\n",
      "154879      0\n",
      "\n",
      "[233421 rows x 1 columns]\n"
     ]
    }
   ],
   "source": [
    "print(y_test)"
   ]
  },
  {
   "cell_type": "code",
   "execution_count": 146,
   "metadata": {},
   "outputs": [],
   "source": [
    "fpr, tpr, _ = roc_curve(y_test, predictions)\n",
    "roc_auc= auc(fpr, tpr)\n",
    "\n"
   ]
  },
  {
   "cell_type": "code",
   "execution_count": 147,
   "metadata": {},
   "outputs": [
    {
     "data": {
      "image/png": "[encoded data removed]",
      "text/plain": [
       "<Figure size 432x288 with 1 Axes>"
      ]
     },
     "metadata": {
      "needs_background": "light"
     },
     "output_type": "display_data"
    }
   ],
   "source": [
    "plt.figure()\n",
    "lw = 2\n",
    "plt.plot(\n",
    "    fpr,\n",
    "    tpr,\n",
    "    color=\"darkorange\",\n",
    "    lw=lw,\n",
    "    label=\"ROC curve (area = %0.2f)\" % roc_auc,\n",
    ")\n",
    "plt.plot([0, 1], [0, 1], color=\"navy\", lw=lw, linestyle=\"--\")\n",
    "plt.xlim([0.0, 1.0])\n",
    "plt.ylim([0.0, 1.05])\n",
    "plt.xlabel(\"False Positive Rate\")\n",
    "plt.ylabel(\"True Positive Rate\")\n",
    "plt.title(\"Receiver operating characteristic example\")\n",
    "plt.legend(loc=\"lower right\")\n",
    "plt.show()"
   ]
  },
  {
   "cell_type": "markdown",
   "metadata": {
    "nbgrader": {
     "grade": false,
     "grade_id": "cell-22608436d8e1a808",
     "locked": true,
     "schema_version": 1,
     "solution": false
    }
   },
   "source": [
    "***\n",
    "### Task 5: Optimization of the classifier (Optional)\n",
    "\n",
    "Optimize your classifier using sklearn __grid search__. Grid optimizes your classifier based on the parameters you want it to experiment with and what values to try out. It uses cross-validation to evaluate all possible combinations of the parameters and values, providing the optimal combinations in the end. For the sake of time, choose 3 parameters you want to optimize. More info on the parameters can be found [__here__](https://towardsdatascience.com/hyperparameter-tuning-the-random-forest-in-python-using-scikit-learn-28d2aa77dd74). Retrain your optimized classifier and compare performance with the non-optimized classifier. "
   ]
  },
  {
   "cell_type": "code",
   "execution_count": 150,
   "metadata": {
    "collapsed": true
   },
   "outputs": [],
   "source": [
    "###Code for task 5\n",
    "from sklearn.model_selection import RandomizedSearchCV\n",
    "import numpy as np\n",
    "\n",
    "# Number of trees in random forest\n",
    "n_estimators = [int(x) for x in np.linspace(start = 0, stop = 20, num = 5)]\n",
    "# Number of features to consider at every split\n",
    "max_features = ['auto', 'sqrt']\n",
    "# Maximum number of levels in tree\n",
    "max_depth = [int(x) for x in np.linspace(0, 20, num = 5)]\n",
    "\n",
    "# Create the random grid\n",
    "random_grid = {'n_estimators': n_estimators,\n",
    "               'max_features': max_features,\n",
    "               'max_depth': max_depth}\n",
    "\n",
    "rf_random = RandomizedSearchCV(estimator = model1, param_distributions = random_grid, n_iter = 20, cv = 10,random_state=42)\n",
    "# Fit the random search model\n",
    "rf_random.fit(intensityTrainData, label)\n",
    "\n",
    "\n",
    "\n"
   ]
  },
  {
   "cell_type": "markdown",
   "metadata": {
    "nbgrader": {
     "grade": false,
     "grade_id": "cell-bf434bbfbb5ecc1b",
     "locked": true,
     "schema_version": 1,
     "solution": false
    }
   },
   "source": [
    "***\n",
    "### Task 6: Segmentation result image\n",
    "\n",
    "It is time to test our machine learning algorithm on a new data, which was not involved in a training stage. You are going to detect bone lesions in a test patient to test the performance of your classifier. After tissue classification, we will create a segmentation image.\n",
    "\n",
    "1. Train the best performing classifier with suitable parameters on the whole dataset of 9 patients (do not use cross validation).\n",
    "\n",
    "2. Have a look at the *Patient_Test* folder. The folder contains information extracted from 3 different frontal slices of the same bone metastases patient. For each slice the following files are given:\n",
    "    - .csv file containing a list of features extracted from every skeleton voxel visible on the slice\n",
    "    - .mhd image file representing T1-anatomy MRI image (slice_T1.mhd)\n",
    "    - .mhd image file representing a ground-truth segmentation image (slice_GT.mhd)\n",
    "    \n",
    "3. Load and plot the T1 image using provided SimpleITK functions. For more information on SimpleITK click [here](http://insightsoftwareconsortium.github.io/SimpleITK-Notebooks/)\n",
    "\n",
    "4. Choose a slice and load a corresponding .csv file. Remove not needed columns and split the dataframe into features, positions and class columns of size 30, 2 and 1 accordingly.\n",
    "\n",
    "5. Using your trained intensity classifier, predict if the voxels from the slice are of a healthy or metastatic bone. Compare your findings with a ground truth vector extracted in point 4. Print classification report.\n",
    "\n",
    "6. Reconstruct segmentation using provided function using obtained predicted classes vector and position data. Plot your result in the overlay with T1 image.\n",
    "\n",
    "7. Repeat for the remaining two slices."
   ]
  },
  {
   "cell_type": "code",
   "execution_count": null,
   "metadata": {
    "collapsed": true
   },
   "outputs": [],
   "source": [
    "### Code for task 6\n",
    "import SimpleITK as sitk\n",
    "import matplotlib.pyplot as plt\n",
    "%matplotlib inline\n",
    "\n",
    "def loadImage(filename):\n",
    "    image = sitk.ReadImage(filename)\n",
    "    return image\n",
    "\n",
    "def showImage(image):\n",
    "    plt.figure(figsize=(5, 20))\n",
    "    plt.imshow(sitk.GetArrayViewFromImage(image), cmap=plt.cm.Greys_r)\n",
    "\n",
    "def showImageOverlay(image1, image2):\n",
    "    plt.figure(figsize=(5, 20))\n",
    "    plt.imshow(sitk.GetArrayViewFromImage(image1), cmap='gray', interpolation='none')\n",
    "    plt.imshow(sitk.GetArrayViewFromImage(image2), cmap='Reds', alpha=0.3, interpolation='none')\n",
    "    \n",
    "def reconstruct_segmentation_image(predicted, positions, slice_filename):\n",
    "    \n",
    "    # Load slice image and convert to numpy array\n",
    "    slice_image = sitk.ReadImage(slice_filename)\n",
    "    slice_image = sitk.GetArrayFromImage(slice_image)\n",
    "    \n",
    "    # Convert position columns to int type\n",
    "    position = positions.to_numpy()\n",
    "    position = position.astype(int)\n",
    "    \n",
    "    # Create empty slice template\n",
    "    output_seg = np.zeros((slice_image.shape[0], slice_image.shape[1]))\n",
    "    \n",
    "    # Fill in the template using predictions\n",
    "    for i in range(len(predicted)):\n",
    "        if predicted[i] == 'healthy':\n",
    "            output_seg[position[i,0],position[i,1]] = 0\n",
    "        else:\n",
    "            output_seg[position[i,0],position[i,1]] = 1\n",
    "    \n",
    "    output_seg = sitk.GetImageFromArray(output_seg)\n",
    "    \n",
    "    return output_seg"
   ]
  }
 ],
 "metadata": {
  "celltoolbar": "Create Assignment",
  "kernelspec": {
   "display_name": "Python 3",
   "language": "python",
   "name": "python3"
  },
  "language_info": {
   "codemirror_mode": {
    "name": "ipython",
    "version": 3
   },
   "file_extension": ".py",
   "mimetype": "text/x-python",
   "name": "python",
   "nbconvert_exporter": "python",
   "pygments_lexer": "ipython3",
   "version": "3.10.2"
  }
 },
 "nbformat": 4,
 "nbformat_minor": 2
}
