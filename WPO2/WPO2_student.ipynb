{
 "cells": [
  {
   "cell_type": "markdown",
   "metadata": {
    "nbgrader": {
     "grade": false,
     "grade_id": "cell-7d39188686aa0d09",
     "locked": true,
     "schema_version": 1,
     "solution": false
    }
   },
   "source": [
    "## Health Information Systems and Decision Support Systems\n",
    "## WPO 2: Data-driven systems  (04/03/22)\n",
    "***\n",
    "*Jakub Ceranka, Pieter Boonen, Panagiotis Gonidakis, Jef Vandemeulebroucke* <br>\n",
    "*Department of Electronics and Informatics (ETRO)* <br>\n",
    "*Vrije Universiteit Brussel, Pleinlaan 2, B-1050 Brussels, Belgium*"
   ]
  },
  {
   "cell_type": "markdown",
   "metadata": {},
   "source": [
    "<font color=blue>Insert students names and IDs here</font>"
   ]
  },
  {
   "cell_type": "markdown",
   "metadata": {
    "nbgrader": {
     "grade": false,
     "grade_id": "cell-6c5875e85168bc04",
     "locked": true,
     "schema_version": 1,
     "solution": false
    }
   },
   "source": [
    "### Goal\n",
    "The goal of this practical session is to get an insight into methods and algorithms for building knowledge-based decision-support systems. Your tasks will involve designing the systems, examining the output, tuning the parameters and validating the performance of your system against the ground-truth predictions done manually by an experienced radiologist. Students must send their notebook via Canvas Assignment functionality before the __11th of March, 2022, 23:59__. The grade from this practical session will contribute to your final grade. Questions: [jceranka@etrovub.be](mailto:jceranka@etrovub.be), [jwuts@etrovub.be](mailto:jwuts@etrovub.be)"
   ]
  },
  {
   "cell_type": "markdown",
   "metadata": {
    "nbgrader": {
     "grade": false,
     "grade_id": "cell-ec1409430738c87f",
     "locked": true,
     "schema_version": 1,
     "solution": false
    }
   },
   "source": [
    "### Libraries\n",
    "\n",
    "During this practical session, the following libraries will be used. You can use different version of libraries, however we recommend the following build:\n",
    "\n",
    "- [__Scikit-fuzzy__](https://pypi.python.org/pypi/scikit-fuzzy): library for fuzzy sets and logic __V 0.3.1__ \n",
    "- [__Numpy__](https://docs.scipy.org/doc/numpy-dev/user/quickstart.html):      library used for scientific computing containing N-dimensional arrays, functions and Fourier transform. __V 1.13.3__ \n",
    "- [__Graphviz__](https://pypi.python.org/pypi/graphviz):     Visualization of graphs. You may need to the perform installation via conda.  __V 0.8.2__ \n",
    "- [__Matplotlib__](https://matplotlib.org/users/pyplot_tutorial.html): plotting library used for the visualization of data from python. __V 2.1.0__ \n",
    "- [__Pgmpy__](http://pgmpy.org/): Module for building and performing inference on probabilistic graphical models __V 0.2.1__ \n",
    "\n",
    "\n",
    "To import any external library, you need to import it using the **import** statement followed by the name of the library and the shortcut. You can additionally check for the module version using __version__ command. Information on updating the libraries using Anaconda can be found  [here](http://conda-test.pydata.org/docs/examples/update.html).\n",
    "<br><br>\n",
    "If the library is not installed in your Anaconda Navigator or Python simply type in your terminal: *conda install package_name* or *pip install package_name*."
   ]
  },
  {
   "cell_type": "markdown",
   "metadata": {
    "nbgrader": {
     "grade": false,
     "grade_id": "cell-0e6961adb9be6d43",
     "locked": true,
     "schema_version": 1,
     "solution": false
    }
   },
   "source": [
    "## Part 1: A fuzzy logic alert system at the pediatric ICU\n",
    "At the intensive care unit of a pediatric hospital, the staff wants to implement a priority-based alert system that allows to rank the urgency of the different monitors of physiological signs of the infants. The physiological sensor outputs are combined with patient-specific information (age, history, etc,) to determine the urgency. The output of each monitor should be a value between 0 (no alert) and 100 (alert with the highest priority), allowing the output of all monitors to be ranked in terms of urgency. The responsible nurse is notified of the most urgent which needs to be addressed first. "
   ]
  },
  {
   "cell_type": "markdown",
   "metadata": {
    "nbgrader": {
     "grade": false,
     "grade_id": "cell-d1411f4ab2c769e3",
     "locked": true,
     "schema_version": 1,
     "solution": false
    }
   },
   "source": [
    "### Task 1: Design a monitor system for body temperature\n",
    "The output of a temperature sensor should be combined with the (priorly given) age of the patient. The variables to consider are:\n",
    "\n",
    "* Temperature\n",
    "   - The temperature in degrees Celcius. \n",
    "       * Values of about 35,5 and below are `hypothermia`\n",
    "       * Values of  roughly 37 are  `normal`\n",
    "       * Values between roughly 37,5 and 38 are `elevated`\n",
    "       * Values of around 38,5 indicate `mild fever`\n",
    "       * Values of 39 and higher indicate `high fever`\n",
    "       * Values outside of the range [30,44] are likely to indicate malfunctioning of the sensor\n",
    "       \n",
    "* Age\n",
    "   - The age of the infant in months, from 0 to 36 \n",
    "       * We make a distinction between newborns (0-3 months), babies (3-6 months), infants (6-12 months) and toddlers (12-36 months)\n",
    "\n",
    "* Alert-level\n",
    "   -  A value between 0 and 100\n",
    "       * Five levels are distinguished: no alert, low, moderate, high, critical \n",
    "\n",
    "\n",
    "The behaviour of the monitoring system should be the following. \n",
    "    * For newborns, elevated temperature should give a moderate alert, a mild fever should correspond to a high alert, and a high fever should correspond to critical alert-level. \n",
    "    * Babies with a mild fever should give a moderate alarm, while high fever should be high alert. \n",
    "    * Infants with a mild fever should be a low priority alert, and high fever should be moderate alert. \n",
    "    * Toddlers with a mild and high fever both should give a low alert. \n",
    "    * Hypothermia should always give a high alert level, except for newborns where it should be critical.\n",
    "    * Malfunctioning sensors should always give a moderate alert. \n",
    "The alert level should evolve continuously for ages and temperatures in the correct functioning range of the sensor, and have a logical progression for values not mentioned above. "
   ]
  },
  {
   "cell_type": "markdown",
   "metadata": {
    "nbgrader": {
     "grade": false,
     "grade_id": "cell-f42f3f8bdabfd1c3",
     "locked": true,
     "schema_version": 1,
     "solution": false
    }
   },
   "source": [
    "Use the packages *skfuzzy* and *matplotlib* to design and visualize a fuzzy logic controller. Instead of *%matplotlib inline* you can use *%matplotlib notebook*, which provide interactive plots.\n"
   ]
  },
  {
   "cell_type": "markdown",
   "metadata": {
    "nbgrader": {
     "grade": false,
     "grade_id": "cell-be3e9070fca0a154",
     "locked": true,
     "schema_version": 1,
     "solution": false
    }
   },
   "source": [
    "### Step 1: Define and visualize the membership funtions\n",
    "Use custom triangular and trapezoid membership functions for the temperature and age, and have at least 1 degree Celcius and 2 months of overlap between functions on each side, respectively. Ensure the total membership is always one. You can use an automatically generated membership function for the alert-level. Have a look at the examples for the syntax (http://pythonhosted.org/scikit-fuzzy/auto_examples/index.html). "
   ]
  },
  {
   "cell_type": "code",
   "execution_count": null,
   "metadata": {
    "collapsed": true
   },
   "outputs": [],
   "source": []
  },
  {
   "cell_type": "markdown",
   "metadata": {
    "nbgrader": {
     "grade": false,
     "grade_id": "cell-7c74fdfa799f7d1f",
     "locked": true,
     "schema_version": 1,
     "solution": false
    }
   },
   "source": [
    "### Step 2: Define the rules\n",
    "Translate the desired behaviour given above, to rules for alert levels. Start by only defining those which are given. More may be needed, after inspecting the output (Step 4)."
   ]
  },
  {
   "cell_type": "code",
   "execution_count": 4,
   "metadata": {
    "collapsed": true
   },
   "outputs": [],
   "source": []
  },
  {
   "cell_type": "markdown",
   "metadata": {
    "nbgrader": {
     "grade": false,
     "grade_id": "cell-c426700f701af68a",
     "locked": true,
     "schema_version": 1,
     "solution": false
    }
   },
   "source": [
    "### Step 3: Load and test the system\n",
    "Make a control system by loading the rules. Now verify the output for particular inputs using the control system simulation. Output the alert level, and visualize the alert membership. __Tip:__ use the functions ctrl.ControlSystemSimulation and alert.view(). \n"
   ]
  },
  {
   "cell_type": "code",
   "execution_count": null,
   "metadata": {
    "collapsed": true
   },
   "outputs": [],
   "source": []
  },
  {
   "cell_type": "markdown",
   "metadata": {
    "nbgrader": {
     "grade": false,
     "grade_id": "cell-f2e97b2e207396e0",
     "locked": true,
     "schema_version": 1,
     "solution": false
    }
   },
   "source": [
    "### Step 4: Test the system\n",
    "\n",
    "Make plots of the evolution of the alerts, for the following cases\n",
    "\n",
    "    * For an age of 1 month, the alert level as a function of the temperature [28, 50] with increments of 0.5.\n",
    "    * For an age of 8 months, the alert level as a function of the temperature [28, 50] with increments of 0.5.\n",
    "    * For a temperature of 38.5 degrees Celcius, the alert level as a function of the age [1,36] with increments of 1.\n",
    "    * For a temperature of 40 degrees Celcius, the alert level as a function of the age [1,36] with increments of 1.\n",
    "    \n",
    "Add rules for cases not currently covered (and which may give errors due to sparsity in the inference engine).\n",
    "\n",
    "\n",
    "        "
   ]
  },
  {
   "cell_type": "code",
   "execution_count": 26,
   "metadata": {
    "collapsed": true
   },
   "outputs": [],
   "source": []
  },
  {
   "cell_type": "markdown",
   "metadata": {
    "nbgrader": {
     "grade": false,
     "grade_id": "cell-28fc329affb3aa0a",
     "locked": true,
     "schema_version": 1,
     "solution": false
    }
   },
   "source": [
    "### Step 5:  Visualize the output and tune the system\n",
    "\n",
    "Make a 3D surface plot (function ***plot_surface()***) with the output of the alert system for ages [1,36] and temperatures [28, 46]. Tune the system such that the alert level is always within the no-alert range for temperatures in the range [36.5, 37.5]. You can adjust the system by modifying the membership functions, changing the rules or inference system; till you obtain the desired behaviour. Modifications towards Step 1 are allowed here."
   ]
  },
  {
   "cell_type": "code",
   "execution_count": null,
   "metadata": {
    "collapsed": true
   },
   "outputs": [],
   "source": []
  },
  {
   "cell_type": "markdown",
   "metadata": {
    "nbgrader": {
     "grade": false,
     "grade_id": "cell-2013c0b47b471367",
     "locked": true,
     "schema_version": 1,
     "solution": false
    }
   },
   "source": [
    "## Part 2: A Bayesian belief network for lung cancer\n",
    "In this exercise we will translate clinical knowledge into a bayesian belief network (the percentages given below are fictive). The goal is to compute the probabilities of presence of cancer, given certain information about the patient. Additionally, we wish to determine the impact on diagnostic tests, when prior information about the patient is given. \n",
    "\n",
    "The changes for lung cancer for someone living a healthy life in a healthy surrounding are slim (3%). They are mainly influenced by smoking (7%), being exposed to pollution (6%), or both (9%). Patients over 50 (about 30% of the population) have the biggest chance of being exposed to pollution (60%), which is significantly more than patients with ages below 50 (10%). Patients over 50 are also more likely to smoke. In fact, one in four males over 50 still smokes, while only 13% of females over 50 smokes. With respect to the population with ages below 50 the difference is remarkable: 20% and 7% for males and females, respectively.  \n",
    "\n",
    "Two tests are primarily done to determine lung cancer: an X-ray scan of the chest, and a Serum Calcium test. Lung cancer has about 85% chance of getting detected using an X-ray. In rare cases (5%), X-ray leads to a positive reading for cases where there is no tumour present. This can be verified using CT imaging. The serum calcium test is cheap, but not very reliable for lung cancer: only 70% sensitivity and a false positive result in about 35% of the negative cases.\n"
   ]
  },
  {
   "cell_type": "markdown",
   "metadata": {
    "nbgrader": {
     "grade": false,
     "grade_id": "cell-a0adbf81c090464e",
     "locked": true,
     "schema_version": 1,
     "solution": false
    }
   },
   "source": [
    "### Step 1: Design the probalistic graphical model \n",
    "Use the package graphviz to draw the bayesian belief network and visualize the network. For now, focuss on dependencies between the different criteria by establishing edges between the different nodes. You should end up with a graph of seven nodes. \n"
   ]
  },
  {
   "cell_type": "code",
   "execution_count": 49,
   "metadata": {
    "collapsed": true
   },
   "outputs": [
    {
     "data": {
      "text/plain": [
       "'doctest-output/Digraph.gv.pdf'"
      ]
     },
     "execution_count": 49,
     "metadata": {},
     "output_type": "execute_result"
    }
   ],
   "source": [
    "from graphviz import Digraph as dia\n",
    "\n",
    "graph = dia(comment='Chances for lung cancer')\n",
    "graph.node('L', 'Lung cancer')\n",
    "graph.node('G', 'Gender')\n",
    "graph.node('A', 'Age')\n",
    "graph.node('S', 'Smoking')\n",
    "graph.node('P', 'Pollution')\n",
    "graph.node('X', 'X-Ray')\n",
    "graph.node('C', 'Serum Calcium')\n",
    "\n",
    "graph.edges(['AS', 'GS', 'AP', 'SL', 'PL', 'LX','LC'])\n",
    "graph.render(directory='doctest-output', view=True)"
   ]
  },
  {
   "cell_type": "markdown",
   "metadata": {
    "nbgrader": {
     "grade": false,
     "grade_id": "cell-dd8755a709bbc275",
     "locked": true,
     "schema_version": 1,
     "solution": false
    }
   },
   "source": [
    "### Step 2: Build the probabilistic graphical model\n",
    "Now use the package pgmpy to build the computational probabilistic graphical model, named cancer_model, by specifying the edges. You can verify the model you defined using the cancer_model.edges() and cancer_model.nodes() commands."
   ]
  },
  {
   "cell_type": "code",
   "execution_count": 27,
   "metadata": {
    "collapsed": true
   },
   "outputs": [],
   "source": [
    "from pgmpy.models import BayesianNetwork\n",
    "from pgmpy.factors.discrete import TabularCPD\n",
    "from pgmpy.inference import DBNInference\n",
    "\n",
    "edges = [\n",
    "    ('Age','Smoking'),\n",
    "    ('Gender','Smoking'),\n",
    "    ('Age','Pollution'),\n",
    "    ('Smoking','Lung cancer'),\n",
    "    ('Pollution','Lung cancer'),\n",
    "    ('Lung cancer','X-Ray'),\n",
    "    ('Lung cancer','Serum Calcium')\n",
    "]\n",
    "# model = DynamicBayesianNetwork([('A', 'S'), ('G', 'S'), ('A', 'P'), ('S', 'L'), ('P', 'L'), ('L', 'X'), ('L', 'C')])\n",
    "model = BayesianNetwork(edges)"
   ]
  },
  {
   "cell_type": "code",
   "execution_count": 50,
   "metadata": {},
   "outputs": [
    {
     "name": "stdout",
     "output_type": "stream",
     "text": [
      "Edges: [('Age', 'Smoking'), ('Age', 'Pollution'), ('Smoking', 'Lung cancer'), ('Gender', 'Smoking'), ('Pollution', 'Lung cancer'), ('Lung cancer', 'X-Ray'), ('Lung cancer', 'Serum Calcium')]\n"
     ]
    }
   ],
   "source": [
    "print(\"Edges: \" + str(model.edges()))"
   ]
  },
  {
   "cell_type": "code",
   "execution_count": 51,
   "metadata": {},
   "outputs": [
    {
     "name": "stdout",
     "output_type": "stream",
     "text": [
      "Nodes: ['Age', 'Smoking', 'Gender', 'Pollution', 'Lung cancer', 'X-Ray', 'Serum Calcium']\n"
     ]
    }
   ],
   "source": [
    "print(\"Nodes: \" + str(model.nodes()))"
   ]
  },
  {
   "cell_type": "markdown",
   "metadata": {
    "nbgrader": {
     "grade": false,
     "grade_id": "cell-37df8372decf9827",
     "locked": true,
     "schema_version": 1,
     "solution": false
    }
   },
   "source": [
    "### Step 3: Define the conditional probability distributions (CPDs)\n",
    "Using the knowledge given above, fill in the conditional probabilities for each node using the TabularCPD command. Finding out the order of the probabilities can be a bit tricky. Have a look at http://pgmpy.org/factors.html for an example. The probability of male vs female is 50%."
   ]
  },
  {
   "cell_type": "code",
   "execution_count": 52,
   "metadata": {
    "collapsed": true
   },
   "outputs": [
    {
     "name": "stdout",
     "output_type": "stream",
     "text": [
      "0 - Less than 50 and 1 - More than 50\n",
      "+--------+-----+\n",
      "| Age(0) | 0.7 |\n",
      "+--------+-----+\n",
      "| Age(1) | 0.3 |\n",
      "+--------+-----+\n",
      "0 - Male and 1 - Female\n",
      "+-----------+-----+\n",
      "| Gender(0) | 0.5 |\n",
      "+-----------+-----+\n",
      "| Gender(1) | 0.5 |\n",
      "+-----------+-----+\n",
      "0 - Non-Smokers and 1 - Smokers\n",
      "+------------+-----------+-----------+-----------+-----------+\n",
      "| Gender     | Gender(0) | Gender(0) | Gender(1) | Gender(1) |\n",
      "+------------+-----------+-----------+-----------+-----------+\n",
      "| Age        | Age(0)    | Age(1)    | Age(0)    | Age(1)    |\n",
      "+------------+-----------+-----------+-----------+-----------+\n",
      "| Smoking(0) | 0.8       | 0.93      | 0.75      | 0.87      |\n",
      "+------------+-----------+-----------+-----------+-----------+\n",
      "| Smoking(1) | 0.2       | 0.07      | 0.25      | 0.13      |\n",
      "+------------+-----------+-----------+-----------+-----------+\n",
      "0 - No exposure to pollution and 1 - Exposure to pollution\n",
      "+--------------+--------+--------+\n",
      "| Age          | Age(0) | Age(1) |\n",
      "+--------------+--------+--------+\n",
      "| Pollution(0) | 0.9    | 0.4    |\n",
      "+--------------+--------+--------+\n",
      "| Pollution(1) | 0.1    | 0.6    |\n",
      "+--------------+--------+--------+\n",
      "0 - No Lung cancer and 1 - Lung cancer\n",
      "+----------------+--------------+--------------+--------------+--------------+\n",
      "| Smoking        | Smoking(0)   | Smoking(0)   | Smoking(1)   | Smoking(1)   |\n",
      "+----------------+--------------+--------------+--------------+--------------+\n",
      "| Pollution      | Pollution(0) | Pollution(1) | Pollution(0) | Pollution(1) |\n",
      "+----------------+--------------+--------------+--------------+--------------+\n",
      "| Lung cancer(0) | 0.97         | 0.94         | 0.93         | 0.91         |\n",
      "+----------------+--------------+--------------+--------------+--------------+\n",
      "| Lung cancer(1) | 0.03         | 0.06         | 0.07         | 0.09         |\n",
      "+----------------+--------------+--------------+--------------+--------------+\n",
      "0 - No lung cancer detected and 1 - Lung cancer detected\n",
      "+-------------+----------------+----------------+\n",
      "| Lung cancer | Lung cancer(0) | Lung cancer(1) |\n",
      "+-------------+----------------+----------------+\n",
      "| X-Ray(0)    | 0.95           | 0.15           |\n",
      "+-------------+----------------+----------------+\n",
      "| X-Ray(1)    | 0.05           | 0.85           |\n",
      "+-------------+----------------+----------------+\n",
      "0 - No Lung cancer and 1 - Lung cancer\n",
      "+------------------+----------------+----------------+\n",
      "| Lung cancer      | Lung cancer(0) | Lung cancer(1) |\n",
      "+------------------+----------------+----------------+\n",
      "| Serum Calcium(0) | 0.65           | 0.3            |\n",
      "+------------------+----------------+----------------+\n",
      "| Serum Calcium(1) | 0.35           | 0.7            |\n",
      "+------------------+----------------+----------------+\n"
     ]
    }
   ],
   "source": [
    "cpd_age = TabularCPD('Age',2,values=[[0.7],[0.3]])\n",
    "print(\"0 - Less than 50 and 1 - More than 50\")\n",
    "print(cpd_age)\n",
    "\n",
    "cpd_gender = TabularCPD('Gender',2,values=[[0.5],[0.5]])\n",
    "print(\"0 - Male and 1 - Female\")\n",
    "print(cpd_gender)\n",
    "\n",
    "cpd_smoking = TabularCPD(\n",
    "    variable=\"Smoking\",\n",
    "    variable_card=2,\n",
    "    values=[[0.8, 0.93, 0.75, 0.87], [0.2, 0.07, 0.25, 0.13]],\n",
    "    evidence=[\"Gender\", \"Age\"],\n",
    "    evidence_card=[2, 2]\n",
    ")\n",
    "print(\"0 - Non-Smokers and 1 - Smokers\")\n",
    "print(cpd_smoking)\n",
    "\n",
    "cpd_pollution = TabularCPD(\n",
    "    variable=\"Pollution\",\n",
    "    variable_card=2,\n",
    "    values=[[0.9, 0.4], [0.1, 0.6]],\n",
    "    evidence=[\"Age\"],\n",
    "    evidence_card=[2]\n",
    ")\n",
    "print(\"0 - No exposure to pollution and 1 - Exposure to pollution\")\n",
    "print(cpd_pollution)\n",
    "\n",
    "cpd_lungCancer = TabularCPD(\n",
    "    variable=\"Lung cancer\",\n",
    "    variable_card=2,\n",
    "    values=[[0.97, 0.94, 0.93, 0.91], [0.03, 0.06, 0.07, 0.09]],\n",
    "    evidence=[\"Smoking\",\"Pollution\"],\n",
    "    evidence_card=[2,2]\n",
    ")\n",
    "print(\"0 - No Lung cancer and 1 - Lung cancer\")\n",
    "print(cpd_lungCancer)\n",
    "\n",
    "cpd_XRay = TabularCPD(\n",
    "    variable=\"X-Ray\",\n",
    "    variable_card=2,\n",
    "    values=[[0.95, 0.15], [0.05, 0.85]],\n",
    "    evidence=[\"Lung cancer\"],\n",
    "    evidence_card=[2]\n",
    ")\n",
    "print(\"0 - No lung cancer detected and 1 - Lung cancer detected\")\n",
    "print(cpd_XRay)\n",
    "\n",
    "cpd_serumCalcium = TabularCPD(\n",
    "    variable=\"Serum Calcium\",\n",
    "    variable_card=2,\n",
    "    values=[[0.65, 0.30], [0.35, 0.70]],\n",
    "    evidence=[\"Lung cancer\"],\n",
    "    evidence_card=[2]\n",
    ")\n",
    "print(\"0 - No Lung cancer and 1 - Lung cancer\")\n",
    "print(cpd_serumCalcium)"
   ]
  },
  {
   "cell_type": "markdown",
   "metadata": {
    "nbgrader": {
     "grade": false,
     "grade_id": "cell-bbe50fac4caa7971",
     "locked": true,
     "schema_version": 1,
     "solution": false
    }
   },
   "source": [
    "### Step 4: Associate the CPDs to the model structure, and test the model\n",
    "Next, associate the CPDs to the model structure and check for consistency.\n",
    "\n",
    "Perform inference on you model using VariableElimination and verify the outcome is intuitively correct for all nodes (e.g. chance of cancer should increase given evidence of smoking, etc.). Adjust the definition of the CPDs if needed. "
   ]
  },
  {
   "cell_type": "code",
   "execution_count": 53,
   "metadata": {
    "collapsed": true
   },
   "outputs": [
    {
     "data": {
      "text/plain": [
       "True"
      ]
     },
     "execution_count": 53,
     "metadata": {},
     "output_type": "execute_result"
    }
   ],
   "source": [
    "from pgmpy.inference import VariableElimination\n",
    "\n",
    "model.add_cpds(cpd_age, cpd_gender, cpd_smoking, cpd_pollution, cpd_lungCancer, cpd_XRay, cpd_serumCalcium)\n",
    "model.check_model()"
   ]
  },
  {
   "cell_type": "code",
   "execution_count": 55,
   "metadata": {},
   "outputs": [
    {
     "name": "stderr",
     "output_type": "stream",
     "text": [
      "Finding Elimination Order: : 100%|██████████| 4/4 [01:09<00:00, 17.49s/it]"
     ]
    },
    {
     "name": "stdout",
     "output_type": "stream",
     "text": [
      "+----------------+--------------------+\n",
      "| Lung cancer    |   phi(Lung cancer) |\n",
      "+================+====================+\n",
      "| Lung cancer(0) |             0.9582 |\n",
      "+----------------+--------------------+\n",
      "| Lung cancer(1) |             0.0418 |\n",
      "+----------------+--------------------+\n",
      "+----------------+--------------------+\n",
      "| Lung cancer    |   phi(Lung cancer) |\n",
      "+================+====================+\n",
      "| Lung cancer(0) |             0.9486 |\n",
      "+----------------+--------------------+\n",
      "| Lung cancer(1) |             0.0514 |\n",
      "+----------------+--------------------+\n",
      "+----------------+--------------------+\n",
      "| Lung cancer    |   phi(Lung cancer) |\n",
      "+================+====================+\n",
      "| Lung cancer(0) |             0.9563 |\n",
      "+----------------+--------------------+\n",
      "| Lung cancer(1) |             0.0437 |\n",
      "+----------------+--------------------+\n",
      "+----------------+--------------------+\n",
      "| Lung cancer    |   phi(Lung cancer) |\n",
      "+================+====================+\n",
      "| Lung cancer(0) |             0.9543 |\n",
      "+----------------+--------------------+\n",
      "| Lung cancer(1) |             0.0457 |\n",
      "+----------------+--------------------+\n",
      "+----------------+--------------------+\n",
      "| Lung cancer    |   phi(Lung cancer) |\n",
      "+================+====================+\n",
      "| Lung cancer(0) |             0.9620 |\n",
      "+----------------+--------------------+\n",
      "| Lung cancer(1) |             0.0380 |\n",
      "+----------------+--------------------+\n",
      "+----------------+--------------------+\n",
      "| Lung cancer    |   phi(Lung cancer) |\n",
      "+================+====================+\n",
      "| Lung cancer(0) |             0.9264 |\n",
      "+----------------+--------------------+\n",
      "| Lung cancer(1) |             0.0736 |\n",
      "+----------------+--------------------+\n",
      "+----------------+--------------------+\n",
      "| Lung cancer    |   phi(Lung cancer) |\n",
      "+================+====================+\n",
      "| Lung cancer(0) |             0.9618 |\n",
      "+----------------+--------------------+\n",
      "| Lung cancer(1) |             0.0382 |\n",
      "+----------------+--------------------+\n",
      "+----------------+--------------------+\n",
      "| Lung cancer    |   phi(Lung cancer) |\n",
      "+================+====================+\n",
      "| Lung cancer(0) |             0.9360 |\n",
      "+----------------+--------------------+\n",
      "| Lung cancer(1) |             0.0641 |\n",
      "+----------------+--------------------+\n",
      "+----------------+--------------------+\n",
      "| Lung cancer    |   phi(Lung cancer) |\n",
      "+================+====================+\n",
      "| Lung cancer(0) |             0.9927 |\n",
      "+----------------+--------------------+\n",
      "| Lung cancer(1) |             0.0073 |\n",
      "+----------------+--------------------+\n",
      "+----------------+--------------------+\n",
      "| Lung cancer    |   phi(Lung cancer) |\n",
      "+================+====================+\n",
      "| Lung cancer(0) |             0.5572 |\n",
      "+----------------+--------------------+\n",
      "| Lung cancer(1) |             0.4428 |\n",
      "+----------------+--------------------+\n",
      "+----------------+--------------------+\n",
      "| Lung cancer    |   phi(Lung cancer) |\n",
      "+================+====================+\n",
      "| Lung cancer(0) |             0.9789 |\n",
      "+----------------+--------------------+\n",
      "| Lung cancer(1) |             0.0211 |\n",
      "+----------------+--------------------+\n",
      "+----------------+--------------------+\n",
      "| Lung cancer    |   phi(Lung cancer) |\n",
      "+================+====================+\n",
      "| Lung cancer(0) |             0.9145 |\n",
      "+----------------+--------------------+\n",
      "| Lung cancer(1) |             0.0855 |\n",
      "+----------------+--------------------+\n"
     ]
    },
    {
     "name": "stderr",
     "output_type": "stream",
     "text": [
      "\n"
     ]
    }
   ],
   "source": [
    "infer = VariableElimination(model)\n",
    "\n",
    "age_less50 = infer.query(variables=['Lung cancer'], evidence={'Age':0},show_progress=False)\n",
    "print(age_less50)\n",
    "\n",
    "age_more50 = infer.query(variables=['Lung cancer'], evidence={'Age':1},show_progress=False)\n",
    "print(age_more50)\n",
    "\n",
    "male = infer.query(variables=['Lung cancer'], evidence={'Gender':0},show_progress=False)\n",
    "print(male)\n",
    "\n",
    "female = infer.query(variables=['Lung cancer'], evidence={'Gender':1},show_progress=False)\n",
    "print(female)\n",
    "\n",
    "smoker = infer.query(variables=['Lung cancer'], evidence={'Smoking':0},show_progress=False)\n",
    "print(smoker)\n",
    "\n",
    "nonsmoker = infer.query(variables=['Lung cancer'], evidence={'Smoking':1},show_progress=False)\n",
    "print(nonsmoker)\n",
    "\n",
    "pollution = infer.query(variables=['Lung cancer'], evidence={'Pollution':0},show_progress=False)\n",
    "print(pollution)\n",
    "\n",
    "nonpollution = infer.query(variables=['Lung cancer'], evidence={'Pollution':1},show_progress=False)\n",
    "print(nonpollution)\n",
    "\n",
    "xray_pos = infer.query(variables=['Lung cancer'], evidence={'X-Ray':0},show_progress=False)\n",
    "print(xray_pos)\n",
    "\n",
    "xray_neg = infer.query(variables=['Lung cancer'], evidence={'X-Ray':1},show_progress=False)\n",
    "print(xray_neg)\n",
    "\n",
    "serum_pos = infer.query(variables=['Lung cancer'], evidence={'Serum Calcium':0},show_progress=False)\n",
    "print(serum_pos)\n",
    "\n",
    "serum_neg = infer.query(variables=['Lung cancer'], evidence={'Serum Calcium':1},show_progress=False)\n",
    "print(serum_neg)"
   ]
  },
  {
   "cell_type": "markdown",
   "metadata": {
    "nbgrader": {
     "grade": false,
     "grade_id": "cell-8eab17e49b28ffd7",
     "locked": true,
     "schema_version": 1,
     "solution": false
    }
   },
   "source": [
    "### Step 5: Use your model to compute probabilities and answer questions\n",
    "\n",
    "    * Whithout any information about the patient, what are the chances of having lung cancer, a positive X-ray and a positive serum Calcium test. Explain the discrepancy.  "
   ]
  },
  {
   "cell_type": "code",
   "execution_count": 56,
   "metadata": {},
   "outputs": [],
   "source": [
    "infer = VariableElimination(model)"
   ]
  },
  {
   "cell_type": "code",
   "execution_count": 59,
   "metadata": {
    "collapsed": true
   },
   "outputs": [
    {
     "name": "stderr",
     "output_type": "stream",
     "text": [
      "Finding Elimination Order: : 100%|██████████| 4/4 [01:30<00:00, 22.66s/it]"
     ]
    },
    {
     "name": "stdout",
     "output_type": "stream",
     "text": [
      "+----------------+--------------------+\n",
      "| Lung cancer    |   phi(Lung cancer) |\n",
      "+================+====================+\n",
      "| Lung cancer(0) |             0.9553 |\n",
      "+----------------+--------------------+\n",
      "| Lung cancer(1) |             0.0447 |\n",
      "+----------------+--------------------+\n",
      "+------------------+----------------------+\n",
      "| Serum Calcium    |   phi(Serum Calcium) |\n",
      "+==================+======================+\n",
      "| Serum Calcium(0) |               0.6344 |\n",
      "+------------------+----------------------+\n",
      "| Serum Calcium(1) |               0.3656 |\n",
      "+------------------+----------------------+\n",
      "+----------+--------------+\n",
      "| X-Ray    |   phi(X-Ray) |\n",
      "+==========+==============+\n",
      "| X-Ray(0) |       0.9143 |\n",
      "+----------+--------------+\n",
      "| X-Ray(1) |       0.0857 |\n",
      "+----------+--------------+\n"
     ]
    },
    {
     "name": "stderr",
     "output_type": "stream",
     "text": [
      "\n"
     ]
    }
   ],
   "source": [
    "lungCancer_noinfo = infer.query(variables = ['Lung cancer'],show_progress=False)\n",
    "print(lungCancer_noinfo)\n",
    "\n",
    "serumCal_noinfo = infer.query(variables = ['Serum Calcium'],show_progress=False)\n",
    "print(serumCal_noinfo)\n",
    "\n",
    "Xray_noinfo = infer.query(variables = ['X-Ray'],show_progress=False)\n",
    "print(Xray_noinfo)"
   ]
  },
  {
   "cell_type": "markdown",
   "metadata": {
    "nbgrader": {
     "grade": false,
     "grade_id": "cell-720eec837b25c346",
     "locked": true,
     "schema_version": 1,
     "solution": false
    }
   },
   "source": [
    "    * What are the probabilities in case we have evidence about the age (>50) and smoking behaviour (smoker) of the patient? Explain the difference with the first case.  "
   ]
  },
  {
   "cell_type": "code",
   "execution_count": 61,
   "metadata": {
    "collapsed": true
   },
   "outputs": [
    {
     "name": "stdout",
     "output_type": "stream",
     "text": [
      "+----------------+--------------------+\n",
      "| Lung cancer    |   phi(Lung cancer) |\n",
      "+================+====================+\n",
      "| Lung cancer(0) |             0.9180 |\n",
      "+----------------+--------------------+\n",
      "| Lung cancer(1) |             0.0820 |\n",
      "+----------------+--------------------+\n",
      "+----------+--------------+\n",
      "| X-Ray    |   phi(X-Ray) |\n",
      "+==========+==============+\n",
      "| X-Ray(0) |       0.8844 |\n",
      "+----------+--------------+\n",
      "| X-Ray(1) |       0.1156 |\n",
      "+----------+--------------+\n",
      "+------------------+----------------------+\n",
      "| Serum Calcium    |   phi(Serum Calcium) |\n",
      "+==================+======================+\n",
      "| Serum Calcium(0) |               0.6213 |\n",
      "+------------------+----------------------+\n",
      "| Serum Calcium(1) |               0.3787 |\n",
      "+------------------+----------------------+\n"
     ]
    }
   ],
   "source": [
    "lungCancer_evi = infer.query(variables = ['Lung cancer'],evidence={'Age':1,'Smoking':1},show_progress=False)\n",
    "print(lungCancer_evi)\n",
    "\n",
    "xray_evi = infer.query(variables = ['X-Ray'],evidence={'Age':1,'Smoking':1},show_progress=False)\n",
    "print(xray_evi)\n",
    "\n",
    "serum_evi = infer.query(variables = ['Serum Calcium'],evidence={'Age':1,'Smoking':1},show_progress=False)\n",
    "print(serum_evi)"
   ]
  },
  {
   "cell_type": "markdown",
   "metadata": {
    "nbgrader": {
     "grade": false,
     "grade_id": "cell-49414e5c3095804a",
     "locked": true,
     "schema_version": 1,
     "solution": false
    }
   },
   "source": [
    "    * What are the probabilities in case we have evidence of cancer (but not about the about the age and smoking behaviour of the patient)? Explain the difference with the previous cases.  "
   ]
  },
  {
   "cell_type": "code",
   "execution_count": 63,
   "metadata": {
    "collapsed": true
   },
   "outputs": [
    {
     "name": "stdout",
     "output_type": "stream",
     "text": [
      "+----------+--------------+\n",
      "| X-Ray    |   phi(X-Ray) |\n",
      "+==========+==============+\n",
      "| X-Ray(0) |       0.1500 |\n",
      "+----------+--------------+\n",
      "| X-Ray(1) |       0.8500 |\n",
      "+----------+--------------+\n",
      "+------------------+----------------------+\n",
      "| Serum Calcium    |   phi(Serum Calcium) |\n",
      "+==================+======================+\n",
      "| Serum Calcium(0) |               0.3000 |\n",
      "+------------------+----------------------+\n",
      "| Serum Calcium(1) |               0.7000 |\n",
      "+------------------+----------------------+\n"
     ]
    }
   ],
   "source": [
    "xray_evid = infer.query(variables=['X-Ray'], evidence={'Lung cancer': 1}, show_progress=False)\n",
    "print(xray_evid)\n",
    "\n",
    "serum_evid = infer.query(variables=['Serum Calcium'], evidence={'Lung cancer': 1}, show_progress=False)\n",
    "print(serum_evid)"
   ]
  },
  {
   "cell_type": "markdown",
   "metadata": {
    "nbgrader": {
     "grade": false,
     "grade_id": "cell-2b18c025efb062ae",
     "locked": true,
     "schema_version": 1,
     "solution": false
    }
   },
   "source": [
    "    * What are the probabilities in case we have evidence of cancer, and about the age (>50) and smoking behaviour (smoker) of the patient? Explain the difference with the previous cases.  "
   ]
  },
  {
   "cell_type": "code",
   "execution_count": 66,
   "metadata": {
    "collapsed": true
   },
   "outputs": [
    {
     "name": "stdout",
     "output_type": "stream",
     "text": [
      "+----------+--------------+\n",
      "| X-Ray    |   phi(X-Ray) |\n",
      "+==========+==============+\n",
      "| X-Ray(0) |       0.1500 |\n",
      "+----------+--------------+\n",
      "| X-Ray(1) |       0.8500 |\n",
      "+----------+--------------+\n",
      "+------------------+----------------------+\n",
      "| Serum Calcium    |   phi(Serum Calcium) |\n",
      "+==================+======================+\n",
      "| Serum Calcium(0) |               0.3000 |\n",
      "+------------------+----------------------+\n",
      "| Serum Calcium(1) |               0.7000 |\n",
      "+------------------+----------------------+\n"
     ]
    }
   ],
   "source": [
    "x_evide = infer.query(variables=['X-Ray'], evidence={'Age': 1, 'Smoking': 1, 'Lung cancer':1}, show_progress=False)\n",
    "print(x_evide)\n",
    "\n",
    "serum_evide = infer.query(variables=['Serum Calcium'], evidence={'Age': 1, 'Smoking': 1, 'Lung cancer':1}, show_progress=False)\n",
    "print(serum_evide)"
   ]
  }
 ],
 "metadata": {
  "celltoolbar": "Create Assignment",
  "kernelspec": {
   "display_name": "Python 3",
   "language": "python",
   "name": "python3"
  },
  "language_info": {
   "codemirror_mode": {
    "name": "ipython",
    "version": 3
   },
   "file_extension": ".py",
   "mimetype": "text/x-python",
   "name": "python",
   "nbconvert_exporter": "python",
   "pygments_lexer": "ipython3",
   "version": "3.8.5"
  }
 },
 "nbformat": 4,
 "nbformat_minor": 2
}
